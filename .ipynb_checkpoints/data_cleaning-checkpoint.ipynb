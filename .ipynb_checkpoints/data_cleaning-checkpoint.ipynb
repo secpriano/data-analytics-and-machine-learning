{
 "cells": [
  {
   "cell_type": "markdown",
   "source": [
    "# Cleaning The Metropolitan Museum of Art Open Access dataset\n",
    "\n",
    "The Metropolitan Museum of Art presents over 5,000 years of art from around the world.\n",
    "\n",
    "The Metropolitan Museum of Art provides select datasets of information on more than 480,000 artworks in its Collection. This work is published from: The United States Of America. The datasets support the search, use, and interaction with the Museum’s collection.\n",
    "\n",
    "At this time, the datasets are available in CSV format, encoded in UTF-8.\n",
    "\n",
    "Issues: Missing values, inconsistent information, missing documentation, possible duplication, mixed text and numeric data."
   ],
   "metadata": {
    "collapsed": false
   },
   "id": "516fbbb36003fbc3"
  },
  {
   "cell_type": "markdown",
   "source": [
    "## Importing Libraries"
   ],
   "metadata": {
    "collapsed": false
   },
   "id": "4f62a5721ece914b"
  },
  {
   "cell_type": "code",
   "outputs": [
    {
     "name": "stdout",
     "output_type": "stream",
     "text": [
      "numpy version: 1.26.4\n",
      "pandas version: 2.1.4\n",
      "scikit-learn version: 1.2.2\n",
      "matplotlib version: 3.8.0\n"
     ]
    }
   ],
   "source": [
    "import numpy as np\n",
    "import pandas as pd\n",
    "import sklearn as sk\n",
    "import matplotlib\n",
    "import matplotlib.pyplot as plt\n",
    "\n",
    "print('numpy version:', np.__version__)\n",
    "print('pandas version:', pd.__version__)\n",
    "print('scikit-learn version:', sk.__version__)\n",
    "print('matplotlib version:', matplotlib.__version__)"
   ],
   "metadata": {
    "collapsed": false,
    "ExecuteTime": {
     "end_time": "2024-03-25T21:00:29.032842Z",
     "start_time": "2024-03-25T21:00:29.027013Z"
    }
   },
   "id": "59c5ccf61b725598",
   "execution_count": 122
  },
  {
   "cell_type": "markdown",
   "source": [
    "## Loading the data source"
   ],
   "metadata": {
    "collapsed": false
   },
   "id": "f438b4f4d1276a1b"
  },
  {
   "cell_type": "code",
   "outputs": [],
   "source": [
    "df_met_objects = pd.read_csv('openaccess/MetObjects.csv', low_memory=False)"
   ],
   "metadata": {
    "collapsed": false,
    "ExecuteTime": {
     "end_time": "2024-03-25T21:00:37.796869Z",
     "start_time": "2024-03-25T21:00:29.107839Z"
    }
   },
   "id": "1714252028c853b4",
   "execution_count": 123
  },
  {
   "cell_type": "markdown",
   "source": [
    "## Explore dataset"
   ],
   "metadata": {
    "collapsed": false
   },
   "id": "3cfa00d4a64497f6"
  },
  {
   "cell_type": "code",
   "outputs": [
    {
     "name": "stdout",
     "output_type": "stream",
     "text": [
      "<class 'pandas.core.frame.DataFrame'>\n",
      "RangeIndex: 484956 entries, 0 to 484955\n",
      "Data columns (total 54 columns):\n",
      " #   Column                   Non-Null Count   Dtype  \n",
      "---  ------                   --------------   -----  \n",
      " 0   Object Number            484956 non-null  object \n",
      " 1   Is Highlight             484956 non-null  bool   \n",
      " 2   Is Timeline Work         484956 non-null  bool   \n",
      " 3   Is Public Domain         484956 non-null  bool   \n",
      " 4   Object ID                484956 non-null  int64  \n",
      " 5   Gallery Number           49541 non-null   object \n",
      " 6   Department               484956 non-null  object \n",
      " 7   AccessionYear            481094 non-null  object \n",
      " 8   Object Name              482690 non-null  object \n",
      " 9   Title                    456153 non-null  object \n",
      " 10  Culture                  208190 non-null  object \n",
      " 11  Period                   91143 non-null   object \n",
      " 12  Dynasty                  23201 non-null   object \n",
      " 13  Reign                    11236 non-null   object \n",
      " 14  Portfolio                26514 non-null   object \n",
      " 15  Constituent ID           282513 non-null  object \n",
      " 16  Artist Role              282513 non-null  object \n",
      " 17  Artist Prefix            282513 non-null  object \n",
      " 18  Artist Display Name      282513 non-null  object \n",
      " 19  Artist Display Bio       280423 non-null  object \n",
      " 20  Artist Suffix            282465 non-null  object \n",
      " 21  Artist Alpha Sort        282513 non-null  object \n",
      " 22  Artist Nationality       282513 non-null  object \n",
      " 23  Artist Begin Date        282513 non-null  object \n",
      " 24  Artist End Date          282513 non-null  object \n",
      " 25  Artist Gender            106482 non-null  object \n",
      " 26  Artist ULAN URL          227441 non-null  object \n",
      " 27  Artist Wikidata URL      224202 non-null  object \n",
      " 28  Object Date              471525 non-null  object \n",
      " 29  Object Begin Date        484956 non-null  int64  \n",
      " 30  Object End Date          484956 non-null  int64  \n",
      " 31  Medium                   477741 non-null  object \n",
      " 32  Dimensions               409898 non-null  object \n",
      " 33  Credit Line              484305 non-null  object \n",
      " 34  Geography Type           59959 non-null   object \n",
      " 35  City                     32754 non-null   object \n",
      " 36  State                    2621 non-null    object \n",
      " 37  County                   8559 non-null    object \n",
      " 38  Country                  76007 non-null   object \n",
      " 39  Region                   31500 non-null   object \n",
      " 40  Subregion                22143 non-null   object \n",
      " 41  Locale                   15739 non-null   object \n",
      " 42  Locus                    7518 non-null    object \n",
      " 43  Excavation               16571 non-null   object \n",
      " 44  River                    2092 non-null    object \n",
      " 45  Classification           406239 non-null  object \n",
      " 46  Rights and Reproduction  24529 non-null   object \n",
      " 47  Link Resource            484956 non-null  object \n",
      " 48  Object Wikidata URL      69154 non-null   object \n",
      " 49  Metadata Date            0 non-null       float64\n",
      " 50  Repository               484956 non-null  object \n",
      " 51  Tags                     192455 non-null  object \n",
      " 52  Tags AAT URL             192455 non-null  object \n",
      " 53  Tags Wikidata URL        192455 non-null  object \n",
      "dtypes: bool(3), float64(1), int64(3), object(47)\n",
      "memory usage: 190.1+ MB\n"
     ]
    },
    {
     "data": {
      "text/plain": "       Object Number Is Highlight Is Timeline Work Is Public Domain  \\\ncount         484956       484956           484956           484956   \nunique        481656            2                2                2   \ntop           62.635        False            False             True   \nfreq               4       482179           476977           248472   \nmean             NaN          NaN              NaN              NaN   \nstd              NaN          NaN              NaN              NaN   \nmin              NaN          NaN              NaN              NaN   \n25%              NaN          NaN              NaN              NaN   \n50%              NaN          NaN              NaN              NaN   \n75%              NaN          NaN              NaN              NaN   \nmax              NaN          NaN              NaN              NaN   \n\n            Object ID Gallery Number           Department AccessionYear  \\\ncount   484956.000000          49541               484956        481094   \nunique            NaN            379                   19           180   \ntop               NaN            774  Drawings and Prints          1963   \nfreq              NaN           7547               172630         41980   \nmean    394499.940353            NaN                  NaN           NaN   \nstd     242732.561637            NaN                  NaN           NaN   \nmin          1.000000            NaN                  NaN           NaN   \n25%     212379.750000            NaN                  NaN           NaN   \n50%     374771.500000            NaN                  NaN           NaN   \n75%     570971.250000            NaN                  NaN           NaN   \nmax     900748.000000            NaN                  NaN           NaN   \n\n       Object Name                                          Title  ...  \\\ncount       482690                                         456153  ...   \nunique       28631                                         245800  ...   \ntop          Print  Terracotta fragment of a kylix (drinking cup)  ...   \nfreq        102986                                           6415  ...   \nmean           NaN                                            NaN  ...   \nstd            NaN                                            NaN  ...   \nmin            NaN                                            NaN  ...   \n25%            NaN                                            NaN  ...   \n50%            NaN                                            NaN  ...   \n75%            NaN                                            NaN  ...   \nmax            NaN                                            NaN  ...   \n\n                    River Classification  \\\ncount                2092         406239   \nunique                228           1244   \ntop     Upper Sepik River         Prints   \nfreq                  362          84326   \nmean                  NaN            NaN   \nstd                   NaN            NaN   \nmin                   NaN            NaN   \n25%                   NaN            NaN   \n50%                   NaN            NaN   \n75%                   NaN            NaN   \nmax                   NaN            NaN   \n\n                                  Rights and Reproduction  \\\ncount                                               24529   \nunique                                               1507   \ntop     © Walker Evans Archive, The Metropolitan Museu...   \nfreq                                                 7364   \nmean                                                  NaN   \nstd                                                   NaN   \nmin                                                   NaN   \n25%                                                   NaN   \n50%                                                   NaN   \n75%                                                   NaN   \nmax                                                   NaN   \n\n                                           Link Resource  \\\ncount                                             484956   \nunique                                            484956   \ntop     http://www.metmuseum.org/art/collection/search/1   \nfreq                                                   1   \nmean                                                 NaN   \nstd                                                  NaN   \nmin                                                  NaN   \n25%                                                  NaN   \n50%                                                  NaN   \n75%                                                  NaN   \nmax                                                  NaN   \n\n                            Object Wikidata URL Metadata Date  \\\ncount                                     69154           0.0   \nunique                                    69076           NaN   \ntop     https://www.wikidata.org/wiki/Q97732991           NaN   \nfreq                                         17           NaN   \nmean                                        NaN           NaN   \nstd                                         NaN           NaN   \nmin                                         NaN           NaN   \n25%                                         NaN           NaN   \n50%                                         NaN           NaN   \n75%                                         NaN           NaN   \nmax                                         NaN           NaN   \n\n                                      Repository     Tags  \\\ncount                                     484956   192455   \nunique                                         1    44171   \ntop     Metropolitan Museum of Art, New York, NY  Flowers   \nfreq                                      484956     8543   \nmean                                         NaN      NaN   \nstd                                          NaN      NaN   \nmin                                          NaN      NaN   \n25%                                          NaN      NaN   \n50%                                          NaN      NaN   \n75%                                          NaN      NaN   \nmax                                          NaN      NaN   \n\n                                     Tags AAT URL  \\\ncount                                      192455   \nunique                                      43699   \ntop     http://vocab.getty.edu/page/aat/300132399   \nfreq                                         8543   \nmean                                          NaN   \nstd                                           NaN   \nmin                                           NaN   \n25%                                           NaN   \n50%                                           NaN   \n75%                                           NaN   \nmax                                           NaN   \n\n                         Tags Wikidata URL  \ncount                               192455  \nunique                               43886  \ntop     https://www.wikidata.org/wiki/Q506  \nfreq                                  8543  \nmean                                   NaN  \nstd                                    NaN  \nmin                                    NaN  \n25%                                    NaN  \n50%                                    NaN  \n75%                                    NaN  \nmax                                    NaN  \n\n[11 rows x 54 columns]",
      "text/html": "<div>\n<style scoped>\n    .dataframe tbody tr th:only-of-type {\n        vertical-align: middle;\n    }\n\n    .dataframe tbody tr th {\n        vertical-align: top;\n    }\n\n    .dataframe thead th {\n        text-align: right;\n    }\n</style>\n<table border=\"1\" class=\"dataframe\">\n  <thead>\n    <tr style=\"text-align: right;\">\n      <th></th>\n      <th>Object Number</th>\n      <th>Is Highlight</th>\n      <th>Is Timeline Work</th>\n      <th>Is Public Domain</th>\n      <th>Object ID</th>\n      <th>Gallery Number</th>\n      <th>Department</th>\n      <th>AccessionYear</th>\n      <th>Object Name</th>\n      <th>Title</th>\n      <th>...</th>\n      <th>River</th>\n      <th>Classification</th>\n      <th>Rights and Reproduction</th>\n      <th>Link Resource</th>\n      <th>Object Wikidata URL</th>\n      <th>Metadata Date</th>\n      <th>Repository</th>\n      <th>Tags</th>\n      <th>Tags AAT URL</th>\n      <th>Tags Wikidata URL</th>\n    </tr>\n  </thead>\n  <tbody>\n    <tr>\n      <th>count</th>\n      <td>484956</td>\n      <td>484956</td>\n      <td>484956</td>\n      <td>484956</td>\n      <td>484956.000000</td>\n      <td>49541</td>\n      <td>484956</td>\n      <td>481094</td>\n      <td>482690</td>\n      <td>456153</td>\n      <td>...</td>\n      <td>2092</td>\n      <td>406239</td>\n      <td>24529</td>\n      <td>484956</td>\n      <td>69154</td>\n      <td>0.0</td>\n      <td>484956</td>\n      <td>192455</td>\n      <td>192455</td>\n      <td>192455</td>\n    </tr>\n    <tr>\n      <th>unique</th>\n      <td>481656</td>\n      <td>2</td>\n      <td>2</td>\n      <td>2</td>\n      <td>NaN</td>\n      <td>379</td>\n      <td>19</td>\n      <td>180</td>\n      <td>28631</td>\n      <td>245800</td>\n      <td>...</td>\n      <td>228</td>\n      <td>1244</td>\n      <td>1507</td>\n      <td>484956</td>\n      <td>69076</td>\n      <td>NaN</td>\n      <td>1</td>\n      <td>44171</td>\n      <td>43699</td>\n      <td>43886</td>\n    </tr>\n    <tr>\n      <th>top</th>\n      <td>62.635</td>\n      <td>False</td>\n      <td>False</td>\n      <td>True</td>\n      <td>NaN</td>\n      <td>774</td>\n      <td>Drawings and Prints</td>\n      <td>1963</td>\n      <td>Print</td>\n      <td>Terracotta fragment of a kylix (drinking cup)</td>\n      <td>...</td>\n      <td>Upper Sepik River</td>\n      <td>Prints</td>\n      <td>© Walker Evans Archive, The Metropolitan Museu...</td>\n      <td>http://www.metmuseum.org/art/collection/search/1</td>\n      <td>https://www.wikidata.org/wiki/Q97732991</td>\n      <td>NaN</td>\n      <td>Metropolitan Museum of Art, New York, NY</td>\n      <td>Flowers</td>\n      <td>http://vocab.getty.edu/page/aat/300132399</td>\n      <td>https://www.wikidata.org/wiki/Q506</td>\n    </tr>\n    <tr>\n      <th>freq</th>\n      <td>4</td>\n      <td>482179</td>\n      <td>476977</td>\n      <td>248472</td>\n      <td>NaN</td>\n      <td>7547</td>\n      <td>172630</td>\n      <td>41980</td>\n      <td>102986</td>\n      <td>6415</td>\n      <td>...</td>\n      <td>362</td>\n      <td>84326</td>\n      <td>7364</td>\n      <td>1</td>\n      <td>17</td>\n      <td>NaN</td>\n      <td>484956</td>\n      <td>8543</td>\n      <td>8543</td>\n      <td>8543</td>\n    </tr>\n    <tr>\n      <th>mean</th>\n      <td>NaN</td>\n      <td>NaN</td>\n      <td>NaN</td>\n      <td>NaN</td>\n      <td>394499.940353</td>\n      <td>NaN</td>\n      <td>NaN</td>\n      <td>NaN</td>\n      <td>NaN</td>\n      <td>NaN</td>\n      <td>...</td>\n      <td>NaN</td>\n      <td>NaN</td>\n      <td>NaN</td>\n      <td>NaN</td>\n      <td>NaN</td>\n      <td>NaN</td>\n      <td>NaN</td>\n      <td>NaN</td>\n      <td>NaN</td>\n      <td>NaN</td>\n    </tr>\n    <tr>\n      <th>std</th>\n      <td>NaN</td>\n      <td>NaN</td>\n      <td>NaN</td>\n      <td>NaN</td>\n      <td>242732.561637</td>\n      <td>NaN</td>\n      <td>NaN</td>\n      <td>NaN</td>\n      <td>NaN</td>\n      <td>NaN</td>\n      <td>...</td>\n      <td>NaN</td>\n      <td>NaN</td>\n      <td>NaN</td>\n      <td>NaN</td>\n      <td>NaN</td>\n      <td>NaN</td>\n      <td>NaN</td>\n      <td>NaN</td>\n      <td>NaN</td>\n      <td>NaN</td>\n    </tr>\n    <tr>\n      <th>min</th>\n      <td>NaN</td>\n      <td>NaN</td>\n      <td>NaN</td>\n      <td>NaN</td>\n      <td>1.000000</td>\n      <td>NaN</td>\n      <td>NaN</td>\n      <td>NaN</td>\n      <td>NaN</td>\n      <td>NaN</td>\n      <td>...</td>\n      <td>NaN</td>\n      <td>NaN</td>\n      <td>NaN</td>\n      <td>NaN</td>\n      <td>NaN</td>\n      <td>NaN</td>\n      <td>NaN</td>\n      <td>NaN</td>\n      <td>NaN</td>\n      <td>NaN</td>\n    </tr>\n    <tr>\n      <th>25%</th>\n      <td>NaN</td>\n      <td>NaN</td>\n      <td>NaN</td>\n      <td>NaN</td>\n      <td>212379.750000</td>\n      <td>NaN</td>\n      <td>NaN</td>\n      <td>NaN</td>\n      <td>NaN</td>\n      <td>NaN</td>\n      <td>...</td>\n      <td>NaN</td>\n      <td>NaN</td>\n      <td>NaN</td>\n      <td>NaN</td>\n      <td>NaN</td>\n      <td>NaN</td>\n      <td>NaN</td>\n      <td>NaN</td>\n      <td>NaN</td>\n      <td>NaN</td>\n    </tr>\n    <tr>\n      <th>50%</th>\n      <td>NaN</td>\n      <td>NaN</td>\n      <td>NaN</td>\n      <td>NaN</td>\n      <td>374771.500000</td>\n      <td>NaN</td>\n      <td>NaN</td>\n      <td>NaN</td>\n      <td>NaN</td>\n      <td>NaN</td>\n      <td>...</td>\n      <td>NaN</td>\n      <td>NaN</td>\n      <td>NaN</td>\n      <td>NaN</td>\n      <td>NaN</td>\n      <td>NaN</td>\n      <td>NaN</td>\n      <td>NaN</td>\n      <td>NaN</td>\n      <td>NaN</td>\n    </tr>\n    <tr>\n      <th>75%</th>\n      <td>NaN</td>\n      <td>NaN</td>\n      <td>NaN</td>\n      <td>NaN</td>\n      <td>570971.250000</td>\n      <td>NaN</td>\n      <td>NaN</td>\n      <td>NaN</td>\n      <td>NaN</td>\n      <td>NaN</td>\n      <td>...</td>\n      <td>NaN</td>\n      <td>NaN</td>\n      <td>NaN</td>\n      <td>NaN</td>\n      <td>NaN</td>\n      <td>NaN</td>\n      <td>NaN</td>\n      <td>NaN</td>\n      <td>NaN</td>\n      <td>NaN</td>\n    </tr>\n    <tr>\n      <th>max</th>\n      <td>NaN</td>\n      <td>NaN</td>\n      <td>NaN</td>\n      <td>NaN</td>\n      <td>900748.000000</td>\n      <td>NaN</td>\n      <td>NaN</td>\n      <td>NaN</td>\n      <td>NaN</td>\n      <td>NaN</td>\n      <td>...</td>\n      <td>NaN</td>\n      <td>NaN</td>\n      <td>NaN</td>\n      <td>NaN</td>\n      <td>NaN</td>\n      <td>NaN</td>\n      <td>NaN</td>\n      <td>NaN</td>\n      <td>NaN</td>\n      <td>NaN</td>\n    </tr>\n  </tbody>\n</table>\n<p>11 rows × 54 columns</p>\n</div>"
     },
     "execution_count": 124,
     "metadata": {},
     "output_type": "execute_result"
    }
   ],
   "source": [
    "df_met_objects.info()\n",
    "df_met_objects.describe(include='all')"
   ],
   "metadata": {
    "collapsed": false,
    "ExecuteTime": {
     "end_time": "2024-03-25T21:00:41.562872Z",
     "start_time": "2024-03-25T21:00:37.799859Z"
    }
   },
   "id": "c361fdd242287496",
   "execution_count": 124
  },
  {
   "cell_type": "markdown",
   "source": [
    "## Cleaning dataset"
   ],
   "metadata": {
    "collapsed": false
   },
   "id": "19f7ab67f2afbca1"
  },
  {
   "cell_type": "markdown",
   "source": [
    "### Renaming columns"
   ],
   "metadata": {
    "collapsed": false
   },
   "id": "e764175e3f73861f"
  },
  {
   "cell_type": "code",
   "outputs": [],
   "source": [
    "# Rename columns to lowercase and replace whitespace with underscores\n",
    "df_met_objects.rename(columns=lambda x: x.lower().replace(' ', '_'), inplace=True)\n",
    "\n",
    "# accession_year was formatted as Pascal, so it needed manual separation\n",
    "df_met_objects.rename(columns={'accessionyear': 'accession_year'}, inplace=True)"
   ],
   "metadata": {
    "collapsed": false,
    "ExecuteTime": {
     "end_time": "2024-03-25T21:00:41.570416Z",
     "start_time": "2024-03-25T21:00:41.564868Z"
    }
   },
   "id": "11fffe86134f5511",
   "execution_count": 125
  },
  {
   "cell_type": "markdown",
   "source": [
    "### Drop uninterested columns\n",
    "- Dataset contains more representations for one value; 'state'/'county', 'object_date'/'object_begin_date','object_end_date'\n",
    "- Links/URL is not interesting; 'artist_ulan_url', 'artist_wikidata_url', 'link_resource', 'object_wikidata_url', 'tags_aat_url', 'tags_wikidata_url'\n",
    "- IDs are not interesting; 'object_number', 'constituent_id'\n",
    "- Column is empty; 'metadata_date'"
   ],
   "metadata": {
    "collapsed": false
   },
   "id": "f17ca69a9c0d730f"
  },
  {
   "cell_type": "code",
   "outputs": [],
   "source": [
    "df_met_objects.drop(inplace=True, columns=['object_number', 'constituent_id', 'artist_prefix', 'artist_suffix', 'artist_ulan_url', 'artist_wikidata_url', 'artist_alpha_sort', 'geography_type', 'state', 'object_date', 'rights_and_reproduction', 'link_resource', 'object_wikidata_url', 'metadata_date', 'repository', 'tags', 'tags_aat_url', 'tags_wikidata_url' ])"
   ],
   "metadata": {
    "collapsed": false,
    "ExecuteTime": {
     "end_time": "2024-03-25T21:00:41.847337Z",
     "start_time": "2024-03-25T21:00:41.572410Z"
    }
   },
   "id": "47ea830a249448a4",
   "execution_count": 126
  },
  {
   "cell_type": "markdown",
   "source": [
    "### Convert types\n",
    "- Most column types are object but they are strings\n",
    "- Column 'gallery_number' has different units for the same variable; number/string"
   ],
   "metadata": {
    "collapsed": false
   },
   "id": "928979ee992660d2"
  },
  {
   "cell_type": "code",
   "outputs": [
    {
     "name": "stdout",
     "output_type": "stream",
     "text": [
      "<class 'pandas.core.frame.DataFrame'>\n",
      "RangeIndex: 484956 entries, 0 to 484955\n",
      "Data columns (total 36 columns):\n",
      " #   Column               Non-Null Count   Dtype         \n",
      "---  ------               --------------   -----         \n",
      " 0   is_highlight         484956 non-null  bool          \n",
      " 1   is_timeline_work     484956 non-null  bool          \n",
      " 2   is_public_domain     484956 non-null  bool          \n",
      " 3   object_id            484956 non-null  int64         \n",
      " 4   gallery_number       49504 non-null   UInt16        \n",
      " 5   department           484956 non-null  string        \n",
      " 6   accession_year       481094 non-null  datetime64[ns]\n",
      " 7   object_name          482690 non-null  string        \n",
      " 8   title                456153 non-null  string        \n",
      " 9   culture              208190 non-null  string        \n",
      " 10  period               91143 non-null   string        \n",
      " 11  dynasty              23201 non-null   string        \n",
      " 12  reign                11236 non-null   string        \n",
      " 13  portfolio            26514 non-null   string        \n",
      " 14  artist_role          282513 non-null  string        \n",
      " 15  artist_display_name  282513 non-null  string        \n",
      " 16  artist_display_bio   280423 non-null  string        \n",
      " 17  artist_nationality   282513 non-null  string        \n",
      " 18  artist_begin_date    282513 non-null  string        \n",
      " 19  artist_end_date      282513 non-null  string        \n",
      " 20  artist_gender        106482 non-null  string        \n",
      " 21  object_begin_date    484956 non-null  int64         \n",
      " 22  object_end_date      484956 non-null  int64         \n",
      " 23  medium               477741 non-null  string        \n",
      " 24  dimensions           409898 non-null  string        \n",
      " 25  credit_line          484305 non-null  string        \n",
      " 26  city                 32754 non-null   string        \n",
      " 27  county               8559 non-null    string        \n",
      " 28  country              76007 non-null   string        \n",
      " 29  region               31500 non-null   string        \n",
      " 30  subregion            22143 non-null   string        \n",
      " 31  locale               15739 non-null   string        \n",
      " 32  locus                7518 non-null    string        \n",
      " 33  excavation           16571 non-null   string        \n",
      " 34  river                2092 non-null    string        \n",
      " 35  classification       406239 non-null  string        \n",
      "dtypes: UInt16(1), bool(3), datetime64[ns](1), int64(3), string(28)\n",
      "memory usage: 121.2 MB\n"
     ]
    }
   ],
   "source": [
    "# TODO dtypes, Transform | character\n",
    "# Suggestion gender decider based on name if the value is NaN\n",
    "\n",
    "# Get columns with dtype 'object'\n",
    "object_columns = df_met_objects.select_dtypes(include=['object']).columns\n",
    "\n",
    "# Convert selected object columns to pd.StringDtype\n",
    "df_met_objects[object_columns] = df_met_objects[object_columns].astype(pd.StringDtype())\n",
    "\n",
    "df_met_objects.gallery_number = pd.to_numeric(df_met_objects.gallery_number, downcast='unsigned', errors='coerce')\n",
    "df_met_objects.accession_year = pd.to_datetime(df_met_objects.accession_year, format='mixed')\n",
    "\n",
    "df_met_objects.info()"
   ],
   "metadata": {
    "collapsed": false,
    "ExecuteTime": {
     "end_time": "2024-03-25T21:00:43.959944Z",
     "start_time": "2024-03-25T21:00:41.849336Z"
    }
   },
   "id": "4ee266b72f2c23d2",
   "execution_count": 127
  },
  {
   "cell_type": "code",
   "outputs": [
    {
     "data": {
      "text/plain": "     is_highlight  is_timeline_work  is_public_domain  object_id  \\\n0           False             False             False          1   \n1           False             False             False          2   \n2           False             False             False          3   \n3           False             False             False          4   \n4           False             False             False          5   \n..            ...               ...               ...        ...   \n445         False             False              True        505   \n446         False             False              True        506   \n447         False             False              True        507   \n448         False             False              True        508   \n449         False             False              True        509   \n\n     gallery_number         department accession_year object_name  \\\n0              <NA>  The American Wing     1979-01-01        Coin   \n1              <NA>  The American Wing     1980-01-01        Coin   \n2              <NA>  The American Wing     1967-01-01        Coin   \n3              <NA>  The American Wing     1967-01-01        Coin   \n4              <NA>  The American Wing     1967-01-01        Coin   \n..              ...                ...            ...         ...   \n445             774  The American Wing     1967-01-01  Berry dish   \n446             774  The American Wing     1968-01-01       Spoon   \n447            <NA>  The American Wing     1910-01-01  Betty lamp   \n448             774  The American Wing     1934-01-01  Betty lamp   \n449             774  The American Wing     1934-01-01  Betty lamp   \n\n                            title   culture  ...      city county  \\\n0    One-dollar Liberty Head Coin      <NA>  ...      <NA>   <NA>   \n1    Ten-dollar Liberty Head Coin      <NA>  ...      <NA>   <NA>   \n2      Two-and-a-Half Dollar Coin      <NA>  ...      <NA>   <NA>   \n3      Two-and-a-Half Dollar Coin      <NA>  ...      <NA>   <NA>   \n4      Two-and-a-Half Dollar Coin      <NA>  ...      <NA>   <NA>   \n..                            ...       ...  ...       ...    ...   \n445                    Berry Dish  American  ...  Sandwich   <NA>   \n446                   Berry Spoon  American  ...  New York   <NA>   \n447                    Betty Lamp      <NA>  ...      <NA>   <NA>   \n448                    Betty Lamp  American  ...      <NA>   <NA>   \n449                    Betty Lamp  American  ...      <NA>   <NA>   \n\n           country region subregion locale locus excavation river  \\\n0             <NA>   <NA>      <NA>   <NA>  <NA>       <NA>  <NA>   \n1             <NA>   <NA>      <NA>   <NA>  <NA>       <NA>  <NA>   \n2             <NA>   <NA>      <NA>   <NA>  <NA>       <NA>  <NA>   \n3             <NA>   <NA>      <NA>   <NA>  <NA>       <NA>  <NA>   \n4             <NA>   <NA>      <NA>   <NA>  <NA>       <NA>  <NA>   \n..             ...    ...       ...    ...   ...        ...   ...   \n445  United States   <NA>      <NA>   <NA>  <NA>       <NA>  <NA>   \n446  United States   <NA>      <NA>   <NA>  <NA>       <NA>  <NA>   \n447           <NA>   <NA>      <NA>   <NA>  <NA>       <NA>  <NA>   \n448  United States   <NA>      <NA>   <NA>  <NA>       <NA>  <NA>   \n449  United States   <NA>      <NA>   <NA>  <NA>       <NA>  <NA>   \n\n    classification  \n0             <NA>  \n1             <NA>  \n2             <NA>  \n3             <NA>  \n4             <NA>  \n..             ...  \n445           <NA>  \n446           <NA>  \n447           <NA>  \n448           <NA>  \n449           <NA>  \n\n[450 rows x 36 columns]",
      "text/html": "<div>\n<style scoped>\n    .dataframe tbody tr th:only-of-type {\n        vertical-align: middle;\n    }\n\n    .dataframe tbody tr th {\n        vertical-align: top;\n    }\n\n    .dataframe thead th {\n        text-align: right;\n    }\n</style>\n<table border=\"1\" class=\"dataframe\">\n  <thead>\n    <tr style=\"text-align: right;\">\n      <th></th>\n      <th>is_highlight</th>\n      <th>is_timeline_work</th>\n      <th>is_public_domain</th>\n      <th>object_id</th>\n      <th>gallery_number</th>\n      <th>department</th>\n      <th>accession_year</th>\n      <th>object_name</th>\n      <th>title</th>\n      <th>culture</th>\n      <th>...</th>\n      <th>city</th>\n      <th>county</th>\n      <th>country</th>\n      <th>region</th>\n      <th>subregion</th>\n      <th>locale</th>\n      <th>locus</th>\n      <th>excavation</th>\n      <th>river</th>\n      <th>classification</th>\n    </tr>\n  </thead>\n  <tbody>\n    <tr>\n      <th>0</th>\n      <td>False</td>\n      <td>False</td>\n      <td>False</td>\n      <td>1</td>\n      <td>&lt;NA&gt;</td>\n      <td>The American Wing</td>\n      <td>1979-01-01</td>\n      <td>Coin</td>\n      <td>One-dollar Liberty Head Coin</td>\n      <td>&lt;NA&gt;</td>\n      <td>...</td>\n      <td>&lt;NA&gt;</td>\n      <td>&lt;NA&gt;</td>\n      <td>&lt;NA&gt;</td>\n      <td>&lt;NA&gt;</td>\n      <td>&lt;NA&gt;</td>\n      <td>&lt;NA&gt;</td>\n      <td>&lt;NA&gt;</td>\n      <td>&lt;NA&gt;</td>\n      <td>&lt;NA&gt;</td>\n      <td>&lt;NA&gt;</td>\n    </tr>\n    <tr>\n      <th>1</th>\n      <td>False</td>\n      <td>False</td>\n      <td>False</td>\n      <td>2</td>\n      <td>&lt;NA&gt;</td>\n      <td>The American Wing</td>\n      <td>1980-01-01</td>\n      <td>Coin</td>\n      <td>Ten-dollar Liberty Head Coin</td>\n      <td>&lt;NA&gt;</td>\n      <td>...</td>\n      <td>&lt;NA&gt;</td>\n      <td>&lt;NA&gt;</td>\n      <td>&lt;NA&gt;</td>\n      <td>&lt;NA&gt;</td>\n      <td>&lt;NA&gt;</td>\n      <td>&lt;NA&gt;</td>\n      <td>&lt;NA&gt;</td>\n      <td>&lt;NA&gt;</td>\n      <td>&lt;NA&gt;</td>\n      <td>&lt;NA&gt;</td>\n    </tr>\n    <tr>\n      <th>2</th>\n      <td>False</td>\n      <td>False</td>\n      <td>False</td>\n      <td>3</td>\n      <td>&lt;NA&gt;</td>\n      <td>The American Wing</td>\n      <td>1967-01-01</td>\n      <td>Coin</td>\n      <td>Two-and-a-Half Dollar Coin</td>\n      <td>&lt;NA&gt;</td>\n      <td>...</td>\n      <td>&lt;NA&gt;</td>\n      <td>&lt;NA&gt;</td>\n      <td>&lt;NA&gt;</td>\n      <td>&lt;NA&gt;</td>\n      <td>&lt;NA&gt;</td>\n      <td>&lt;NA&gt;</td>\n      <td>&lt;NA&gt;</td>\n      <td>&lt;NA&gt;</td>\n      <td>&lt;NA&gt;</td>\n      <td>&lt;NA&gt;</td>\n    </tr>\n    <tr>\n      <th>3</th>\n      <td>False</td>\n      <td>False</td>\n      <td>False</td>\n      <td>4</td>\n      <td>&lt;NA&gt;</td>\n      <td>The American Wing</td>\n      <td>1967-01-01</td>\n      <td>Coin</td>\n      <td>Two-and-a-Half Dollar Coin</td>\n      <td>&lt;NA&gt;</td>\n      <td>...</td>\n      <td>&lt;NA&gt;</td>\n      <td>&lt;NA&gt;</td>\n      <td>&lt;NA&gt;</td>\n      <td>&lt;NA&gt;</td>\n      <td>&lt;NA&gt;</td>\n      <td>&lt;NA&gt;</td>\n      <td>&lt;NA&gt;</td>\n      <td>&lt;NA&gt;</td>\n      <td>&lt;NA&gt;</td>\n      <td>&lt;NA&gt;</td>\n    </tr>\n    <tr>\n      <th>4</th>\n      <td>False</td>\n      <td>False</td>\n      <td>False</td>\n      <td>5</td>\n      <td>&lt;NA&gt;</td>\n      <td>The American Wing</td>\n      <td>1967-01-01</td>\n      <td>Coin</td>\n      <td>Two-and-a-Half Dollar Coin</td>\n      <td>&lt;NA&gt;</td>\n      <td>...</td>\n      <td>&lt;NA&gt;</td>\n      <td>&lt;NA&gt;</td>\n      <td>&lt;NA&gt;</td>\n      <td>&lt;NA&gt;</td>\n      <td>&lt;NA&gt;</td>\n      <td>&lt;NA&gt;</td>\n      <td>&lt;NA&gt;</td>\n      <td>&lt;NA&gt;</td>\n      <td>&lt;NA&gt;</td>\n      <td>&lt;NA&gt;</td>\n    </tr>\n    <tr>\n      <th>...</th>\n      <td>...</td>\n      <td>...</td>\n      <td>...</td>\n      <td>...</td>\n      <td>...</td>\n      <td>...</td>\n      <td>...</td>\n      <td>...</td>\n      <td>...</td>\n      <td>...</td>\n      <td>...</td>\n      <td>...</td>\n      <td>...</td>\n      <td>...</td>\n      <td>...</td>\n      <td>...</td>\n      <td>...</td>\n      <td>...</td>\n      <td>...</td>\n      <td>...</td>\n      <td>...</td>\n    </tr>\n    <tr>\n      <th>445</th>\n      <td>False</td>\n      <td>False</td>\n      <td>True</td>\n      <td>505</td>\n      <td>774</td>\n      <td>The American Wing</td>\n      <td>1967-01-01</td>\n      <td>Berry dish</td>\n      <td>Berry Dish</td>\n      <td>American</td>\n      <td>...</td>\n      <td>Sandwich</td>\n      <td>&lt;NA&gt;</td>\n      <td>United States</td>\n      <td>&lt;NA&gt;</td>\n      <td>&lt;NA&gt;</td>\n      <td>&lt;NA&gt;</td>\n      <td>&lt;NA&gt;</td>\n      <td>&lt;NA&gt;</td>\n      <td>&lt;NA&gt;</td>\n      <td>&lt;NA&gt;</td>\n    </tr>\n    <tr>\n      <th>446</th>\n      <td>False</td>\n      <td>False</td>\n      <td>True</td>\n      <td>506</td>\n      <td>774</td>\n      <td>The American Wing</td>\n      <td>1968-01-01</td>\n      <td>Spoon</td>\n      <td>Berry Spoon</td>\n      <td>American</td>\n      <td>...</td>\n      <td>New York</td>\n      <td>&lt;NA&gt;</td>\n      <td>United States</td>\n      <td>&lt;NA&gt;</td>\n      <td>&lt;NA&gt;</td>\n      <td>&lt;NA&gt;</td>\n      <td>&lt;NA&gt;</td>\n      <td>&lt;NA&gt;</td>\n      <td>&lt;NA&gt;</td>\n      <td>&lt;NA&gt;</td>\n    </tr>\n    <tr>\n      <th>447</th>\n      <td>False</td>\n      <td>False</td>\n      <td>True</td>\n      <td>507</td>\n      <td>&lt;NA&gt;</td>\n      <td>The American Wing</td>\n      <td>1910-01-01</td>\n      <td>Betty lamp</td>\n      <td>Betty Lamp</td>\n      <td>&lt;NA&gt;</td>\n      <td>...</td>\n      <td>&lt;NA&gt;</td>\n      <td>&lt;NA&gt;</td>\n      <td>&lt;NA&gt;</td>\n      <td>&lt;NA&gt;</td>\n      <td>&lt;NA&gt;</td>\n      <td>&lt;NA&gt;</td>\n      <td>&lt;NA&gt;</td>\n      <td>&lt;NA&gt;</td>\n      <td>&lt;NA&gt;</td>\n      <td>&lt;NA&gt;</td>\n    </tr>\n    <tr>\n      <th>448</th>\n      <td>False</td>\n      <td>False</td>\n      <td>True</td>\n      <td>508</td>\n      <td>774</td>\n      <td>The American Wing</td>\n      <td>1934-01-01</td>\n      <td>Betty lamp</td>\n      <td>Betty Lamp</td>\n      <td>American</td>\n      <td>...</td>\n      <td>&lt;NA&gt;</td>\n      <td>&lt;NA&gt;</td>\n      <td>United States</td>\n      <td>&lt;NA&gt;</td>\n      <td>&lt;NA&gt;</td>\n      <td>&lt;NA&gt;</td>\n      <td>&lt;NA&gt;</td>\n      <td>&lt;NA&gt;</td>\n      <td>&lt;NA&gt;</td>\n      <td>&lt;NA&gt;</td>\n    </tr>\n    <tr>\n      <th>449</th>\n      <td>False</td>\n      <td>False</td>\n      <td>True</td>\n      <td>509</td>\n      <td>774</td>\n      <td>The American Wing</td>\n      <td>1934-01-01</td>\n      <td>Betty lamp</td>\n      <td>Betty Lamp</td>\n      <td>American</td>\n      <td>...</td>\n      <td>&lt;NA&gt;</td>\n      <td>&lt;NA&gt;</td>\n      <td>United States</td>\n      <td>&lt;NA&gt;</td>\n      <td>&lt;NA&gt;</td>\n      <td>&lt;NA&gt;</td>\n      <td>&lt;NA&gt;</td>\n      <td>&lt;NA&gt;</td>\n      <td>&lt;NA&gt;</td>\n      <td>&lt;NA&gt;</td>\n    </tr>\n  </tbody>\n</table>\n<p>450 rows × 36 columns</p>\n</div>"
     },
     "execution_count": 137,
     "metadata": {},
     "output_type": "execute_result"
    }
   ],
   "source": [
    "df_met_objects.head(450)"
   ],
   "metadata": {
    "collapsed": false,
    "ExecuteTime": {
     "end_time": "2024-03-25T21:42:06.056463Z",
     "start_time": "2024-03-25T21:42:06.019893Z"
    }
   },
   "id": "41dab6bfaa39d1ec",
   "execution_count": 137
  }
 ],
 "metadata": {
  "kernelspec": {
   "display_name": "Python 3",
   "language": "python",
   "name": "python3"
  },
  "language_info": {
   "codemirror_mode": {
    "name": "ipython",
    "version": 2
   },
   "file_extension": ".py",
   "mimetype": "text/x-python",
   "name": "python",
   "nbconvert_exporter": "python",
   "pygments_lexer": "ipython2",
   "version": "2.7.6"
  }
 },
 "nbformat": 4,
 "nbformat_minor": 5
}
