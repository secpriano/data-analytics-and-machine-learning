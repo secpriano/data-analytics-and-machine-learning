{
 "cells": [
  {
   "cell_type": "markdown",
   "source": [
    "# Cleaning The Metropolitan Museum of Art Open Access dataset\n",
    "\n",
    "The Metropolitan Museum of Art presents over 5,000 years of art from around the world.\n",
    "\n",
    "The Metropolitan Museum of Art provides select datasets of information on more than 480,000 artworks in its Collection. This work is published from: The United States Of America. The datasets support the search, use, and interaction with the Museum’s collection.\n",
    "\n",
    "At this time, the datasets are available in CSV format, encoded in UTF-8.\n",
    "\n",
    "Issues: Missing values, inconsistent information, missing documentation, possible duplication, mixed text and numeric data."
   ],
   "metadata": {
    "collapsed": false
   },
   "id": "516fbbb36003fbc3"
  },
  {
   "cell_type": "markdown",
   "source": [
    "## Libraries"
   ],
   "metadata": {
    "collapsed": false
   },
   "id": "4f62a5721ece914b"
  },
  {
   "cell_type": "code",
   "outputs": [
    {
     "name": "stdout",
     "output_type": "stream",
     "text": [
      "numpy version: 1.26.4\n",
      "pandas version: 2.1.4\n",
      "scikit-learn version: 1.2.2\n",
      "matplotlib version: 3.8.0\n"
     ]
    }
   ],
   "source": [
    "import numpy as np\n",
    "import pandas as pd\n",
    "import sklearn as sk\n",
    "import matplotlib\n",
    "import matplotlib.pyplot as plt\n",
    "\n",
    "print('numpy version:', np.__version__)\n",
    "print('pandas version:', pd.__version__)\n",
    "print('scikit-learn version:', sk.__version__)\n",
    "print('matplotlib version:', matplotlib.__version__)"
   ],
   "metadata": {
    "collapsed": false,
    "ExecuteTime": {
     "end_time": "2024-03-24T22:57:06.363708Z",
     "start_time": "2024-03-24T22:57:06.358055Z"
    }
   },
   "id": "59c5ccf61b725598",
   "execution_count": 169
  },
  {
   "cell_type": "markdown",
   "source": [
    "## Add data source"
   ],
   "metadata": {
    "collapsed": false
   },
   "id": "f438b4f4d1276a1b"
  },
  {
   "cell_type": "code",
   "outputs": [],
   "source": [
    "df_met_objects = pd.read_csv('openaccess/MetObjects.csv', low_memory=False)"
   ],
   "metadata": {
    "collapsed": false,
    "ExecuteTime": {
     "end_time": "2024-03-24T22:57:14.794259Z",
     "start_time": "2024-03-24T22:57:06.407722Z"
    }
   },
   "id": "1714252028c853b4",
   "execution_count": 170
  },
  {
   "cell_type": "markdown",
   "source": [
    "## Inspect dataset"
   ],
   "metadata": {
    "collapsed": false
   },
   "id": "3cfa00d4a64497f6"
  },
  {
   "cell_type": "code",
   "outputs": [
    {
     "name": "stdout",
     "output_type": "stream",
     "text": [
      "<class 'pandas.core.frame.DataFrame'>\n",
      "RangeIndex: 484956 entries, 0 to 484955\n",
      "Data columns (total 54 columns):\n",
      " #   Column                   Non-Null Count   Dtype  \n",
      "---  ------                   --------------   -----  \n",
      " 0   Object Number            484956 non-null  object \n",
      " 1   Is Highlight             484956 non-null  bool   \n",
      " 2   Is Timeline Work         484956 non-null  bool   \n",
      " 3   Is Public Domain         484956 non-null  bool   \n",
      " 4   Object ID                484956 non-null  int64  \n",
      " 5   Gallery Number           49541 non-null   object \n",
      " 6   Department               484956 non-null  object \n",
      " 7   AccessionYear            481094 non-null  object \n",
      " 8   Object Name              482690 non-null  object \n",
      " 9   Title                    456153 non-null  object \n",
      " 10  Culture                  208190 non-null  object \n",
      " 11  Period                   91143 non-null   object \n",
      " 12  Dynasty                  23201 non-null   object \n",
      " 13  Reign                    11236 non-null   object \n",
      " 14  Portfolio                26514 non-null   object \n",
      " 15  Constituent ID           282513 non-null  object \n",
      " 16  Artist Role              282513 non-null  object \n",
      " 17  Artist Prefix            282513 non-null  object \n",
      " 18  Artist Display Name      282513 non-null  object \n",
      " 19  Artist Display Bio       280423 non-null  object \n",
      " 20  Artist Suffix            282465 non-null  object \n",
      " 21  Artist Alpha Sort        282513 non-null  object \n",
      " 22  Artist Nationality       282513 non-null  object \n",
      " 23  Artist Begin Date        282513 non-null  object \n",
      " 24  Artist End Date          282513 non-null  object \n",
      " 25  Artist Gender            106482 non-null  object \n",
      " 26  Artist ULAN URL          227441 non-null  object \n",
      " 27  Artist Wikidata URL      224202 non-null  object \n",
      " 28  Object Date              471525 non-null  object \n",
      " 29  Object Begin Date        484956 non-null  int64  \n",
      " 30  Object End Date          484956 non-null  int64  \n",
      " 31  Medium                   477741 non-null  object \n",
      " 32  Dimensions               409898 non-null  object \n",
      " 33  Credit Line              484305 non-null  object \n",
      " 34  Geography Type           59959 non-null   object \n",
      " 35  City                     32754 non-null   object \n",
      " 36  State                    2621 non-null    object \n",
      " 37  County                   8559 non-null    object \n",
      " 38  Country                  76007 non-null   object \n",
      " 39  Region                   31500 non-null   object \n",
      " 40  Subregion                22143 non-null   object \n",
      " 41  Locale                   15739 non-null   object \n",
      " 42  Locus                    7518 non-null    object \n",
      " 43  Excavation               16571 non-null   object \n",
      " 44  River                    2092 non-null    object \n",
      " 45  Classification           406239 non-null  object \n",
      " 46  Rights and Reproduction  24529 non-null   object \n",
      " 47  Link Resource            484956 non-null  object \n",
      " 48  Object Wikidata URL      69154 non-null   object \n",
      " 49  Metadata Date            0 non-null       float64\n",
      " 50  Repository               484956 non-null  object \n",
      " 51  Tags                     192455 non-null  object \n",
      " 52  Tags AAT URL             192455 non-null  object \n",
      " 53  Tags Wikidata URL        192455 non-null  object \n",
      "dtypes: bool(3), float64(1), int64(3), object(47)\n",
      "memory usage: 190.1+ MB\n"
     ]
    },
    {
     "data": {
      "text/plain": "       Object Number Is Highlight Is Timeline Work Is Public Domain  \\\ncount         484956       484956           484956           484956   \nunique        481656            2                2                2   \ntop           62.635        False            False             True   \nfreq               4       482179           476977           248472   \nmean             NaN          NaN              NaN              NaN   \nstd              NaN          NaN              NaN              NaN   \nmin              NaN          NaN              NaN              NaN   \n25%              NaN          NaN              NaN              NaN   \n50%              NaN          NaN              NaN              NaN   \n75%              NaN          NaN              NaN              NaN   \nmax              NaN          NaN              NaN              NaN   \n\n            Object ID Gallery Number           Department AccessionYear  \\\ncount   484956.000000          49541               484956        481094   \nunique            NaN            379                   19           180   \ntop               NaN            774  Drawings and Prints          1963   \nfreq              NaN           7547               172630         41980   \nmean    394499.940353            NaN                  NaN           NaN   \nstd     242732.561637            NaN                  NaN           NaN   \nmin          1.000000            NaN                  NaN           NaN   \n25%     212379.750000            NaN                  NaN           NaN   \n50%     374771.500000            NaN                  NaN           NaN   \n75%     570971.250000            NaN                  NaN           NaN   \nmax     900748.000000            NaN                  NaN           NaN   \n\n       Object Name                                          Title  ...  \\\ncount       482690                                         456153  ...   \nunique       28631                                         245800  ...   \ntop          Print  Terracotta fragment of a kylix (drinking cup)  ...   \nfreq        102986                                           6415  ...   \nmean           NaN                                            NaN  ...   \nstd            NaN                                            NaN  ...   \nmin            NaN                                            NaN  ...   \n25%            NaN                                            NaN  ...   \n50%            NaN                                            NaN  ...   \n75%            NaN                                            NaN  ...   \nmax            NaN                                            NaN  ...   \n\n                    River Classification  \\\ncount                2092         406239   \nunique                228           1244   \ntop     Upper Sepik River         Prints   \nfreq                  362          84326   \nmean                  NaN            NaN   \nstd                   NaN            NaN   \nmin                   NaN            NaN   \n25%                   NaN            NaN   \n50%                   NaN            NaN   \n75%                   NaN            NaN   \nmax                   NaN            NaN   \n\n                                  Rights and Reproduction  \\\ncount                                               24529   \nunique                                               1507   \ntop     © Walker Evans Archive, The Metropolitan Museu...   \nfreq                                                 7364   \nmean                                                  NaN   \nstd                                                   NaN   \nmin                                                   NaN   \n25%                                                   NaN   \n50%                                                   NaN   \n75%                                                   NaN   \nmax                                                   NaN   \n\n                                           Link Resource  \\\ncount                                             484956   \nunique                                            484956   \ntop     http://www.metmuseum.org/art/collection/search/1   \nfreq                                                   1   \nmean                                                 NaN   \nstd                                                  NaN   \nmin                                                  NaN   \n25%                                                  NaN   \n50%                                                  NaN   \n75%                                                  NaN   \nmax                                                  NaN   \n\n                            Object Wikidata URL Metadata Date  \\\ncount                                     69154           0.0   \nunique                                    69076           NaN   \ntop     https://www.wikidata.org/wiki/Q97732991           NaN   \nfreq                                         17           NaN   \nmean                                        NaN           NaN   \nstd                                         NaN           NaN   \nmin                                         NaN           NaN   \n25%                                         NaN           NaN   \n50%                                         NaN           NaN   \n75%                                         NaN           NaN   \nmax                                         NaN           NaN   \n\n                                      Repository     Tags  \\\ncount                                     484956   192455   \nunique                                         1    44171   \ntop     Metropolitan Museum of Art, New York, NY  Flowers   \nfreq                                      484956     8543   \nmean                                         NaN      NaN   \nstd                                          NaN      NaN   \nmin                                          NaN      NaN   \n25%                                          NaN      NaN   \n50%                                          NaN      NaN   \n75%                                          NaN      NaN   \nmax                                          NaN      NaN   \n\n                                     Tags AAT URL  \\\ncount                                      192455   \nunique                                      43699   \ntop     http://vocab.getty.edu/page/aat/300132399   \nfreq                                         8543   \nmean                                          NaN   \nstd                                           NaN   \nmin                                           NaN   \n25%                                           NaN   \n50%                                           NaN   \n75%                                           NaN   \nmax                                           NaN   \n\n                         Tags Wikidata URL  \ncount                               192455  \nunique                               43886  \ntop     https://www.wikidata.org/wiki/Q506  \nfreq                                  8543  \nmean                                   NaN  \nstd                                    NaN  \nmin                                    NaN  \n25%                                    NaN  \n50%                                    NaN  \n75%                                    NaN  \nmax                                    NaN  \n\n[11 rows x 54 columns]",
      "text/html": "<div>\n<style scoped>\n    .dataframe tbody tr th:only-of-type {\n        vertical-align: middle;\n    }\n\n    .dataframe tbody tr th {\n        vertical-align: top;\n    }\n\n    .dataframe thead th {\n        text-align: right;\n    }\n</style>\n<table border=\"1\" class=\"dataframe\">\n  <thead>\n    <tr style=\"text-align: right;\">\n      <th></th>\n      <th>Object Number</th>\n      <th>Is Highlight</th>\n      <th>Is Timeline Work</th>\n      <th>Is Public Domain</th>\n      <th>Object ID</th>\n      <th>Gallery Number</th>\n      <th>Department</th>\n      <th>AccessionYear</th>\n      <th>Object Name</th>\n      <th>Title</th>\n      <th>...</th>\n      <th>River</th>\n      <th>Classification</th>\n      <th>Rights and Reproduction</th>\n      <th>Link Resource</th>\n      <th>Object Wikidata URL</th>\n      <th>Metadata Date</th>\n      <th>Repository</th>\n      <th>Tags</th>\n      <th>Tags AAT URL</th>\n      <th>Tags Wikidata URL</th>\n    </tr>\n  </thead>\n  <tbody>\n    <tr>\n      <th>count</th>\n      <td>484956</td>\n      <td>484956</td>\n      <td>484956</td>\n      <td>484956</td>\n      <td>484956.000000</td>\n      <td>49541</td>\n      <td>484956</td>\n      <td>481094</td>\n      <td>482690</td>\n      <td>456153</td>\n      <td>...</td>\n      <td>2092</td>\n      <td>406239</td>\n      <td>24529</td>\n      <td>484956</td>\n      <td>69154</td>\n      <td>0.0</td>\n      <td>484956</td>\n      <td>192455</td>\n      <td>192455</td>\n      <td>192455</td>\n    </tr>\n    <tr>\n      <th>unique</th>\n      <td>481656</td>\n      <td>2</td>\n      <td>2</td>\n      <td>2</td>\n      <td>NaN</td>\n      <td>379</td>\n      <td>19</td>\n      <td>180</td>\n      <td>28631</td>\n      <td>245800</td>\n      <td>...</td>\n      <td>228</td>\n      <td>1244</td>\n      <td>1507</td>\n      <td>484956</td>\n      <td>69076</td>\n      <td>NaN</td>\n      <td>1</td>\n      <td>44171</td>\n      <td>43699</td>\n      <td>43886</td>\n    </tr>\n    <tr>\n      <th>top</th>\n      <td>62.635</td>\n      <td>False</td>\n      <td>False</td>\n      <td>True</td>\n      <td>NaN</td>\n      <td>774</td>\n      <td>Drawings and Prints</td>\n      <td>1963</td>\n      <td>Print</td>\n      <td>Terracotta fragment of a kylix (drinking cup)</td>\n      <td>...</td>\n      <td>Upper Sepik River</td>\n      <td>Prints</td>\n      <td>© Walker Evans Archive, The Metropolitan Museu...</td>\n      <td>http://www.metmuseum.org/art/collection/search/1</td>\n      <td>https://www.wikidata.org/wiki/Q97732991</td>\n      <td>NaN</td>\n      <td>Metropolitan Museum of Art, New York, NY</td>\n      <td>Flowers</td>\n      <td>http://vocab.getty.edu/page/aat/300132399</td>\n      <td>https://www.wikidata.org/wiki/Q506</td>\n    </tr>\n    <tr>\n      <th>freq</th>\n      <td>4</td>\n      <td>482179</td>\n      <td>476977</td>\n      <td>248472</td>\n      <td>NaN</td>\n      <td>7547</td>\n      <td>172630</td>\n      <td>41980</td>\n      <td>102986</td>\n      <td>6415</td>\n      <td>...</td>\n      <td>362</td>\n      <td>84326</td>\n      <td>7364</td>\n      <td>1</td>\n      <td>17</td>\n      <td>NaN</td>\n      <td>484956</td>\n      <td>8543</td>\n      <td>8543</td>\n      <td>8543</td>\n    </tr>\n    <tr>\n      <th>mean</th>\n      <td>NaN</td>\n      <td>NaN</td>\n      <td>NaN</td>\n      <td>NaN</td>\n      <td>394499.940353</td>\n      <td>NaN</td>\n      <td>NaN</td>\n      <td>NaN</td>\n      <td>NaN</td>\n      <td>NaN</td>\n      <td>...</td>\n      <td>NaN</td>\n      <td>NaN</td>\n      <td>NaN</td>\n      <td>NaN</td>\n      <td>NaN</td>\n      <td>NaN</td>\n      <td>NaN</td>\n      <td>NaN</td>\n      <td>NaN</td>\n      <td>NaN</td>\n    </tr>\n    <tr>\n      <th>std</th>\n      <td>NaN</td>\n      <td>NaN</td>\n      <td>NaN</td>\n      <td>NaN</td>\n      <td>242732.561637</td>\n      <td>NaN</td>\n      <td>NaN</td>\n      <td>NaN</td>\n      <td>NaN</td>\n      <td>NaN</td>\n      <td>...</td>\n      <td>NaN</td>\n      <td>NaN</td>\n      <td>NaN</td>\n      <td>NaN</td>\n      <td>NaN</td>\n      <td>NaN</td>\n      <td>NaN</td>\n      <td>NaN</td>\n      <td>NaN</td>\n      <td>NaN</td>\n    </tr>\n    <tr>\n      <th>min</th>\n      <td>NaN</td>\n      <td>NaN</td>\n      <td>NaN</td>\n      <td>NaN</td>\n      <td>1.000000</td>\n      <td>NaN</td>\n      <td>NaN</td>\n      <td>NaN</td>\n      <td>NaN</td>\n      <td>NaN</td>\n      <td>...</td>\n      <td>NaN</td>\n      <td>NaN</td>\n      <td>NaN</td>\n      <td>NaN</td>\n      <td>NaN</td>\n      <td>NaN</td>\n      <td>NaN</td>\n      <td>NaN</td>\n      <td>NaN</td>\n      <td>NaN</td>\n    </tr>\n    <tr>\n      <th>25%</th>\n      <td>NaN</td>\n      <td>NaN</td>\n      <td>NaN</td>\n      <td>NaN</td>\n      <td>212379.750000</td>\n      <td>NaN</td>\n      <td>NaN</td>\n      <td>NaN</td>\n      <td>NaN</td>\n      <td>NaN</td>\n      <td>...</td>\n      <td>NaN</td>\n      <td>NaN</td>\n      <td>NaN</td>\n      <td>NaN</td>\n      <td>NaN</td>\n      <td>NaN</td>\n      <td>NaN</td>\n      <td>NaN</td>\n      <td>NaN</td>\n      <td>NaN</td>\n    </tr>\n    <tr>\n      <th>50%</th>\n      <td>NaN</td>\n      <td>NaN</td>\n      <td>NaN</td>\n      <td>NaN</td>\n      <td>374771.500000</td>\n      <td>NaN</td>\n      <td>NaN</td>\n      <td>NaN</td>\n      <td>NaN</td>\n      <td>NaN</td>\n      <td>...</td>\n      <td>NaN</td>\n      <td>NaN</td>\n      <td>NaN</td>\n      <td>NaN</td>\n      <td>NaN</td>\n      <td>NaN</td>\n      <td>NaN</td>\n      <td>NaN</td>\n      <td>NaN</td>\n      <td>NaN</td>\n    </tr>\n    <tr>\n      <th>75%</th>\n      <td>NaN</td>\n      <td>NaN</td>\n      <td>NaN</td>\n      <td>NaN</td>\n      <td>570971.250000</td>\n      <td>NaN</td>\n      <td>NaN</td>\n      <td>NaN</td>\n      <td>NaN</td>\n      <td>NaN</td>\n      <td>...</td>\n      <td>NaN</td>\n      <td>NaN</td>\n      <td>NaN</td>\n      <td>NaN</td>\n      <td>NaN</td>\n      <td>NaN</td>\n      <td>NaN</td>\n      <td>NaN</td>\n      <td>NaN</td>\n      <td>NaN</td>\n    </tr>\n    <tr>\n      <th>max</th>\n      <td>NaN</td>\n      <td>NaN</td>\n      <td>NaN</td>\n      <td>NaN</td>\n      <td>900748.000000</td>\n      <td>NaN</td>\n      <td>NaN</td>\n      <td>NaN</td>\n      <td>NaN</td>\n      <td>NaN</td>\n      <td>...</td>\n      <td>NaN</td>\n      <td>NaN</td>\n      <td>NaN</td>\n      <td>NaN</td>\n      <td>NaN</td>\n      <td>NaN</td>\n      <td>NaN</td>\n      <td>NaN</td>\n      <td>NaN</td>\n      <td>NaN</td>\n    </tr>\n  </tbody>\n</table>\n<p>11 rows × 54 columns</p>\n</div>"
     },
     "execution_count": 171,
     "metadata": {},
     "output_type": "execute_result"
    }
   ],
   "source": [
    "df_met_objects.info()\n",
    "df_met_objects.describe(include='all')"
   ],
   "metadata": {
    "collapsed": false,
    "ExecuteTime": {
     "end_time": "2024-03-24T22:57:18.393090Z",
     "start_time": "2024-03-24T22:57:14.796779Z"
    }
   },
   "id": "c361fdd242287496",
   "execution_count": 171
  },
  {
   "cell_type": "code",
   "outputs": [
    {
     "name": "stdout",
     "output_type": "stream",
     "text": [
      "<class 'pandas.core.frame.DataFrame'>\n",
      "RangeIndex: 484956 entries, 0 to 484955\n",
      "Data columns (total 41 columns):\n",
      " #   Column               Non-Null Count   Dtype         \n",
      "---  ------               --------------   -----         \n",
      " 0   is_highlight         484956 non-null  bool          \n",
      " 1   is_timeline_work     484956 non-null  bool          \n",
      " 2   is_public_domain     484956 non-null  bool          \n",
      " 3   object_id            484956 non-null  int64         \n",
      " 4   gallery_number       49541 non-null   object        \n",
      " 5   department           484956 non-null  string        \n",
      " 6   accession_year       481094 non-null  datetime64[ns]\n",
      " 7   object_name          482690 non-null  object        \n",
      " 8   title                456153 non-null  object        \n",
      " 9   culture              208190 non-null  object        \n",
      " 10  period               91143 non-null   object        \n",
      " 11  dynasty              23201 non-null   object        \n",
      " 12  reign                11236 non-null   object        \n",
      " 13  portfolio            26514 non-null   object        \n",
      " 14  constituent_id       282513 non-null  object        \n",
      " 15  artist_role          282513 non-null  object        \n",
      " 16  artist_prefix        282513 non-null  object        \n",
      " 17  artist_display_name  282513 non-null  object        \n",
      " 18  artist_display_bio   280423 non-null  object        \n",
      " 19  artist_suffix        282465 non-null  object        \n",
      " 20  artist_nationality   282513 non-null  object        \n",
      " 21  artist_begin_date    282513 non-null  object        \n",
      " 22  artist_end_date      282513 non-null  object        \n",
      " 23  artist_gender        106482 non-null  object        \n",
      " 24  object_begin_date    484956 non-null  int64         \n",
      " 25  object_end_date      484956 non-null  int64         \n",
      " 26  medium               477741 non-null  object        \n",
      " 27  dimensions           409898 non-null  object        \n",
      " 28  credit_line          484305 non-null  object        \n",
      " 29  geography_type       59959 non-null   object        \n",
      " 30  city                 32754 non-null   object        \n",
      " 31  state                2621 non-null    object        \n",
      " 32  county               8559 non-null    object        \n",
      " 33  country              76007 non-null   object        \n",
      " 34  region               31500 non-null   object        \n",
      " 35  subregion            22143 non-null   object        \n",
      " 36  locale               15739 non-null   object        \n",
      " 37  locus                7518 non-null    object        \n",
      " 38  excavation           16571 non-null   object        \n",
      " 39  river                2092 non-null    object        \n",
      " 40  classification       406239 non-null  object        \n",
      "dtypes: bool(3), datetime64[ns](1), int64(3), object(33), string(1)\n",
      "memory usage: 142.0+ MB\n"
     ]
    }
   ],
   "source": [
    "df_met_objects.drop_duplicates()\n",
    "\n",
    "# Rename columns to lowercase and replace whitespace with underscores\n",
    "df_met_objects.rename(columns=lambda x: x.lower().replace(' ', '_'), inplace=True)\n",
    "# accession_year was formatted as Pascal, so it needed manual separation\n",
    "df_met_objects.rename(columns={'accessionyear': 'accession_year'}, inplace=True)\n",
    "\n",
    "df_met_objects.drop(inplace=True, columns=['object_number', 'artist_ulan_url', 'artist_wikidata_url', 'artist_alpha_sort', 'object_date', 'rights_and_reproduction', 'link_resource', 'object_wikidata_url', 'metadata_date', 'repository', 'tags', 'tags_aat_url', 'tags_wikidata_url' ])\n",
    "\n",
    "# TODO dtypes, Transform | character\n",
    "# Suggestion gender decider based on name if the value is NaN\n",
    "\n",
    "df_met_objects.accession_year = pd.to_datetime(df_met_objects.accession_year, format='mixed')\n",
    "\n",
    "df_met_objects.info()"
   ],
   "metadata": {
    "collapsed": false,
    "ExecuteTime": {
     "end_time": "2024-03-24T23:00:02.378562Z",
     "start_time": "2024-03-24T22:59:58.990832Z"
    }
   },
   "id": "4ee266b72f2c23d2",
   "execution_count": 177
  },
  {
   "cell_type": "code",
   "outputs": [
    {
     "data": {
      "text/plain": "        is_highlight  is_timeline_work  is_public_domain  object_id  \\\n0              False             False             False          1   \n1              False             False             False          2   \n2              False             False             False          3   \n3              False             False             False          4   \n4              False             False             False          5   \n...              ...               ...               ...        ...   \n484951         False             False             False     900605   \n484952         False             False             False     900606   \n484953         False             False             False     900633   \n484954          True             False             False     900717   \n484955         False             False             False     900748   \n\n       gallery_number           department accession_year object_name  \\\n0                 NaN    The American Wing     1979-01-01        Coin   \n1                 NaN    The American Wing     1980-01-01        Coin   \n2                 NaN    The American Wing     1967-01-01        Coin   \n3                 NaN    The American Wing     1967-01-01        Coin   \n4                 NaN    The American Wing     1967-01-01        Coin   \n...               ...                  ...            ...         ...   \n484951            NaN  Drawings and Prints     1955-01-01       Print   \n484952            NaN  Drawings and Prints     1977-01-01       Print   \n484953            NaN  Drawings and Prints     1933-01-01       Print   \n484954            NaN        The Libraries            NaT         NaN   \n484955            NaN  Drawings and Prints     1917-01-01       Print   \n\n                                                    title culture  ... state  \\\n0                            One-dollar Liberty Head Coin     NaN  ...   NaN   \n1                            Ten-dollar Liberty Head Coin     NaN  ...   NaN   \n2                              Two-and-a-Half Dollar Coin     NaN  ...   NaN   \n3                              Two-and-a-Half Dollar Coin     NaN  ...   NaN   \n4                              Two-and-a-Half Dollar Coin     NaN  ...   NaN   \n...                                                   ...     ...  ...   ...   \n484951                                       Holiday Card     NaN  ...   NaN   \n484952                                     Brooklyn Local     NaN  ...   NaN   \n484953                                Yesterday and Today     NaN  ...   NaN   \n484954  De la loi du contraste simultané des couleurs,...     NaN  ...   NaN   \n484955  Madison Square - Fifth Avenue and Broadway at ...     NaN  ...   NaN   \n\n       county country region subregion locale locus excavation river  \\\n0         NaN     NaN    NaN       NaN    NaN   NaN        NaN   NaN   \n1         NaN     NaN    NaN       NaN    NaN   NaN        NaN   NaN   \n2         NaN     NaN    NaN       NaN    NaN   NaN        NaN   NaN   \n3         NaN     NaN    NaN       NaN    NaN   NaN        NaN   NaN   \n4         NaN     NaN    NaN       NaN    NaN   NaN        NaN   NaN   \n...       ...     ...    ...       ...    ...   ...        ...   ...   \n484951    NaN     NaN    NaN       NaN    NaN   NaN        NaN   NaN   \n484952    NaN     NaN    NaN       NaN    NaN   NaN        NaN   NaN   \n484953    NaN     NaN    NaN       NaN    NaN   NaN        NaN   NaN   \n484954    NaN  France    NaN       NaN    NaN   NaN        NaN   NaN   \n484955    NaN     NaN    NaN       NaN    NaN   NaN        NaN   NaN   \n\n       classification  \n0                 NaN  \n1                 NaN  \n2                 NaN  \n3                 NaN  \n4                 NaN  \n...               ...  \n484951         Prints  \n484952         Prints  \n484953         Prints  \n484954            NaN  \n484955         Prints  \n\n[484956 rows x 41 columns]",
      "text/html": "<div>\n<style scoped>\n    .dataframe tbody tr th:only-of-type {\n        vertical-align: middle;\n    }\n\n    .dataframe tbody tr th {\n        vertical-align: top;\n    }\n\n    .dataframe thead th {\n        text-align: right;\n    }\n</style>\n<table border=\"1\" class=\"dataframe\">\n  <thead>\n    <tr style=\"text-align: right;\">\n      <th></th>\n      <th>is_highlight</th>\n      <th>is_timeline_work</th>\n      <th>is_public_domain</th>\n      <th>object_id</th>\n      <th>gallery_number</th>\n      <th>department</th>\n      <th>accession_year</th>\n      <th>object_name</th>\n      <th>title</th>\n      <th>culture</th>\n      <th>...</th>\n      <th>state</th>\n      <th>county</th>\n      <th>country</th>\n      <th>region</th>\n      <th>subregion</th>\n      <th>locale</th>\n      <th>locus</th>\n      <th>excavation</th>\n      <th>river</th>\n      <th>classification</th>\n    </tr>\n  </thead>\n  <tbody>\n    <tr>\n      <th>0</th>\n      <td>False</td>\n      <td>False</td>\n      <td>False</td>\n      <td>1</td>\n      <td>NaN</td>\n      <td>The American Wing</td>\n      <td>1979-01-01</td>\n      <td>Coin</td>\n      <td>One-dollar Liberty Head Coin</td>\n      <td>NaN</td>\n      <td>...</td>\n      <td>NaN</td>\n      <td>NaN</td>\n      <td>NaN</td>\n      <td>NaN</td>\n      <td>NaN</td>\n      <td>NaN</td>\n      <td>NaN</td>\n      <td>NaN</td>\n      <td>NaN</td>\n      <td>NaN</td>\n    </tr>\n    <tr>\n      <th>1</th>\n      <td>False</td>\n      <td>False</td>\n      <td>False</td>\n      <td>2</td>\n      <td>NaN</td>\n      <td>The American Wing</td>\n      <td>1980-01-01</td>\n      <td>Coin</td>\n      <td>Ten-dollar Liberty Head Coin</td>\n      <td>NaN</td>\n      <td>...</td>\n      <td>NaN</td>\n      <td>NaN</td>\n      <td>NaN</td>\n      <td>NaN</td>\n      <td>NaN</td>\n      <td>NaN</td>\n      <td>NaN</td>\n      <td>NaN</td>\n      <td>NaN</td>\n      <td>NaN</td>\n    </tr>\n    <tr>\n      <th>2</th>\n      <td>False</td>\n      <td>False</td>\n      <td>False</td>\n      <td>3</td>\n      <td>NaN</td>\n      <td>The American Wing</td>\n      <td>1967-01-01</td>\n      <td>Coin</td>\n      <td>Two-and-a-Half Dollar Coin</td>\n      <td>NaN</td>\n      <td>...</td>\n      <td>NaN</td>\n      <td>NaN</td>\n      <td>NaN</td>\n      <td>NaN</td>\n      <td>NaN</td>\n      <td>NaN</td>\n      <td>NaN</td>\n      <td>NaN</td>\n      <td>NaN</td>\n      <td>NaN</td>\n    </tr>\n    <tr>\n      <th>3</th>\n      <td>False</td>\n      <td>False</td>\n      <td>False</td>\n      <td>4</td>\n      <td>NaN</td>\n      <td>The American Wing</td>\n      <td>1967-01-01</td>\n      <td>Coin</td>\n      <td>Two-and-a-Half Dollar Coin</td>\n      <td>NaN</td>\n      <td>...</td>\n      <td>NaN</td>\n      <td>NaN</td>\n      <td>NaN</td>\n      <td>NaN</td>\n      <td>NaN</td>\n      <td>NaN</td>\n      <td>NaN</td>\n      <td>NaN</td>\n      <td>NaN</td>\n      <td>NaN</td>\n    </tr>\n    <tr>\n      <th>4</th>\n      <td>False</td>\n      <td>False</td>\n      <td>False</td>\n      <td>5</td>\n      <td>NaN</td>\n      <td>The American Wing</td>\n      <td>1967-01-01</td>\n      <td>Coin</td>\n      <td>Two-and-a-Half Dollar Coin</td>\n      <td>NaN</td>\n      <td>...</td>\n      <td>NaN</td>\n      <td>NaN</td>\n      <td>NaN</td>\n      <td>NaN</td>\n      <td>NaN</td>\n      <td>NaN</td>\n      <td>NaN</td>\n      <td>NaN</td>\n      <td>NaN</td>\n      <td>NaN</td>\n    </tr>\n    <tr>\n      <th>...</th>\n      <td>...</td>\n      <td>...</td>\n      <td>...</td>\n      <td>...</td>\n      <td>...</td>\n      <td>...</td>\n      <td>...</td>\n      <td>...</td>\n      <td>...</td>\n      <td>...</td>\n      <td>...</td>\n      <td>...</td>\n      <td>...</td>\n      <td>...</td>\n      <td>...</td>\n      <td>...</td>\n      <td>...</td>\n      <td>...</td>\n      <td>...</td>\n      <td>...</td>\n      <td>...</td>\n    </tr>\n    <tr>\n      <th>484951</th>\n      <td>False</td>\n      <td>False</td>\n      <td>False</td>\n      <td>900605</td>\n      <td>NaN</td>\n      <td>Drawings and Prints</td>\n      <td>1955-01-01</td>\n      <td>Print</td>\n      <td>Holiday Card</td>\n      <td>NaN</td>\n      <td>...</td>\n      <td>NaN</td>\n      <td>NaN</td>\n      <td>NaN</td>\n      <td>NaN</td>\n      <td>NaN</td>\n      <td>NaN</td>\n      <td>NaN</td>\n      <td>NaN</td>\n      <td>NaN</td>\n      <td>Prints</td>\n    </tr>\n    <tr>\n      <th>484952</th>\n      <td>False</td>\n      <td>False</td>\n      <td>False</td>\n      <td>900606</td>\n      <td>NaN</td>\n      <td>Drawings and Prints</td>\n      <td>1977-01-01</td>\n      <td>Print</td>\n      <td>Brooklyn Local</td>\n      <td>NaN</td>\n      <td>...</td>\n      <td>NaN</td>\n      <td>NaN</td>\n      <td>NaN</td>\n      <td>NaN</td>\n      <td>NaN</td>\n      <td>NaN</td>\n      <td>NaN</td>\n      <td>NaN</td>\n      <td>NaN</td>\n      <td>Prints</td>\n    </tr>\n    <tr>\n      <th>484953</th>\n      <td>False</td>\n      <td>False</td>\n      <td>False</td>\n      <td>900633</td>\n      <td>NaN</td>\n      <td>Drawings and Prints</td>\n      <td>1933-01-01</td>\n      <td>Print</td>\n      <td>Yesterday and Today</td>\n      <td>NaN</td>\n      <td>...</td>\n      <td>NaN</td>\n      <td>NaN</td>\n      <td>NaN</td>\n      <td>NaN</td>\n      <td>NaN</td>\n      <td>NaN</td>\n      <td>NaN</td>\n      <td>NaN</td>\n      <td>NaN</td>\n      <td>Prints</td>\n    </tr>\n    <tr>\n      <th>484954</th>\n      <td>True</td>\n      <td>False</td>\n      <td>False</td>\n      <td>900717</td>\n      <td>NaN</td>\n      <td>The Libraries</td>\n      <td>NaT</td>\n      <td>NaN</td>\n      <td>De la loi du contraste simultané des couleurs,...</td>\n      <td>NaN</td>\n      <td>...</td>\n      <td>NaN</td>\n      <td>NaN</td>\n      <td>France</td>\n      <td>NaN</td>\n      <td>NaN</td>\n      <td>NaN</td>\n      <td>NaN</td>\n      <td>NaN</td>\n      <td>NaN</td>\n      <td>NaN</td>\n    </tr>\n    <tr>\n      <th>484955</th>\n      <td>False</td>\n      <td>False</td>\n      <td>False</td>\n      <td>900748</td>\n      <td>NaN</td>\n      <td>Drawings and Prints</td>\n      <td>1917-01-01</td>\n      <td>Print</td>\n      <td>Madison Square - Fifth Avenue and Broadway at ...</td>\n      <td>NaN</td>\n      <td>...</td>\n      <td>NaN</td>\n      <td>NaN</td>\n      <td>NaN</td>\n      <td>NaN</td>\n      <td>NaN</td>\n      <td>NaN</td>\n      <td>NaN</td>\n      <td>NaN</td>\n      <td>NaN</td>\n      <td>Prints</td>\n    </tr>\n  </tbody>\n</table>\n<p>484956 rows × 41 columns</p>\n</div>"
     },
     "execution_count": 178,
     "metadata": {},
     "output_type": "execute_result"
    }
   ],
   "source": [
    "df_met_objects"
   ],
   "metadata": {
    "collapsed": false,
    "ExecuteTime": {
     "end_time": "2024-03-24T23:12:37.107563Z",
     "start_time": "2024-03-24T23:12:36.633632Z"
    }
   },
   "id": "41dab6bfaa39d1ec",
   "execution_count": 178
  },
  {
   "cell_type": "code",
   "outputs": [],
   "source": [
    "# df_met_objects.drop(columns=[df_met_objects.Ar, 'Co'])\n",
    "s = df_met_objects.locus.astype(pd.StringDtype())"
   ],
   "metadata": {
    "collapsed": false,
    "ExecuteTime": {
     "end_time": "2024-03-24T22:57:39.141667Z",
     "start_time": "2024-03-24T22:57:39.107536Z"
    }
   },
   "id": "864b6a5c018e4f9b",
   "execution_count": 175
  },
  {
   "cell_type": "code",
   "outputs": [
    {
     "name": "stdout",
     "output_type": "stream",
     "text": [
      "<class 'pandas.core.frame.DataFrame'>\n",
      "RangeIndex: 484956 entries, 0 to 484955\n",
      "Data columns (total 54 columns):\n",
      " #   Column                   Non-Null Count   Dtype         \n",
      "---  ------                   --------------   -----         \n",
      " 0   object_number            484956 non-null  object        \n",
      " 1   is_highlight             484956 non-null  bool          \n",
      " 2   is_timeline_work         484956 non-null  bool          \n",
      " 3   is_public_domain         484956 non-null  bool          \n",
      " 4   object_id                484956 non-null  int64         \n",
      " 5   gallery_number           49541 non-null   object        \n",
      " 6   department               484956 non-null  string        \n",
      " 7   accession_year           481094 non-null  datetime64[ns]\n",
      " 8   object_name              482690 non-null  object        \n",
      " 9   title                    456153 non-null  object        \n",
      " 10  culture                  208190 non-null  object        \n",
      " 11  period                   91143 non-null   object        \n",
      " 12  dynasty                  23201 non-null   object        \n",
      " 13  reign                    11236 non-null   object        \n",
      " 14  portfolio                26514 non-null   object        \n",
      " 15  constituent_id           282513 non-null  object        \n",
      " 16  artist_role              282513 non-null  object        \n",
      " 17  artist_prefix            282513 non-null  object        \n",
      " 18  artist_display_name      282513 non-null  object        \n",
      " 19  artist_display_bio       280423 non-null  object        \n",
      " 20  artist_suffix            282465 non-null  object        \n",
      " 21  artist_alpha_sort        282513 non-null  object        \n",
      " 22  artist_nationality       282513 non-null  object        \n",
      " 23  artist_begin_date        282513 non-null  object        \n",
      " 24  artist_end_date          282513 non-null  object        \n",
      " 25  artist_gender            106482 non-null  object        \n",
      " 26  artist_ulan_url          227441 non-null  object        \n",
      " 27  artist_wikidata_url      224202 non-null  object        \n",
      " 28  object_date              471525 non-null  object        \n",
      " 29  object_begin_date        484956 non-null  int64         \n",
      " 30  object_end_date          484956 non-null  int64         \n",
      " 31  medium                   477741 non-null  object        \n",
      " 32  dimensions               409898 non-null  object        \n",
      " 33  credit_line              484305 non-null  object        \n",
      " 34  geography_type           59959 non-null   object        \n",
      " 35  city                     32754 non-null   object        \n",
      " 36  state                    2621 non-null    object        \n",
      " 37  county                   8559 non-null    object        \n",
      " 38  country                  76007 non-null   object        \n",
      " 39  region                   31500 non-null   object        \n",
      " 40  subregion                22143 non-null   object        \n",
      " 41  locale                   15739 non-null   object        \n",
      " 42  locus                    7518 non-null    object        \n",
      " 43  excavation               16571 non-null   object        \n",
      " 44  river                    2092 non-null    object        \n",
      " 45  classification           406239 non-null  object        \n",
      " 46  rights_and_reproduction  24529 non-null   object        \n",
      " 47  link_resource            484956 non-null  object        \n",
      " 48  object_wikidata_url      69154 non-null   object        \n",
      " 49  metadata_date            0 non-null       float64       \n",
      " 50  repository               484956 non-null  object        \n",
      " 51  tags                     192455 non-null  object        \n",
      " 52  tags_aat_url             192455 non-null  object        \n",
      " 53  tags_wikidata_url        192455 non-null  object        \n",
      "dtypes: bool(3), datetime64[ns](1), float64(1), int64(3), object(45), string(1)\n",
      "memory usage: 190.1+ MB\n"
     ]
    }
   ],
   "source": [
    "\n",
    "\n",
    "df_met_objects.department = df_met_objects.department.astype(pd.StringDtype())\n",
    "\n",
    "df_met_objects.info()"
   ],
   "metadata": {
    "collapsed": false,
    "ExecuteTime": {
     "end_time": "2024-03-24T22:57:52.094659Z",
     "start_time": "2024-03-24T22:57:51.367686Z"
    }
   },
   "id": "190c712b9087b83",
   "execution_count": 176
  }
 ],
 "metadata": {
  "kernelspec": {
   "display_name": "Python 3",
   "language": "python",
   "name": "python3"
  },
  "language_info": {
   "codemirror_mode": {
    "name": "ipython",
    "version": 2
   },
   "file_extension": ".py",
   "mimetype": "text/x-python",
   "name": "python",
   "nbconvert_exporter": "python",
   "pygments_lexer": "ipython2",
   "version": "2.7.6"
  }
 },
 "nbformat": 4,
 "nbformat_minor": 5
}
