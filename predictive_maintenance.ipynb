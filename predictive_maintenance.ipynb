{
 "cells": [
  {
   "cell_type": "markdown",
   "source": [
    "Because we want to predict, records in PdM_maint that are Proactive maintenance will not be necessary. Only Reactive Maintenance. And $\\text{PdM_failures} \\subseteq \\text{PdM_maint}$ and $\\forall \\text{reactive Maintenance}; \\text{reactive Maintenance} \\in \\text{PdM_failures}$"
   ],
   "metadata": {
    "collapsed": false
   },
   "id": "feff191fcff5d119"
  },
  {
   "cell_type": "markdown",
   "source": [
    "## Importing libraries"
   ],
   "metadata": {
    "collapsed": false
   },
   "id": "e8ca879d2bd1c2da"
  },
  {
   "cell_type": "code",
   "source": [
    "import numpy as np\n",
    "import pandas as pd\n",
    "import sklearn as sk\n",
    "import matplotlib\n",
    "import matplotlib.pyplot as plt\n",
    "\n",
    "print('numpy version:', np.__version__)\n",
    "print('pandas version:', pd.__version__)\n",
    "print('scikit-learn version:', sk.__version__)\n",
    "print('matplotlib version:', matplotlib.__version__)"
   ],
   "metadata": {
    "collapsed": false,
    "ExecuteTime": {
     "end_time": "2024-04-15T11:58:45.186876Z",
     "start_time": "2024-04-15T11:58:45.182596Z"
    }
   },
   "id": "c4a71a4e661ed701",
   "outputs": [
    {
     "name": "stdout",
     "output_type": "stream",
     "text": [
      "numpy version: 1.26.4\n",
      "pandas version: 2.1.4\n",
      "scikit-learn version: 1.2.2\n",
      "matplotlib version: 3.8.0\n"
     ]
    }
   ],
   "execution_count": 16
  },
  {
   "cell_type": "markdown",
   "source": [
    "## Loading the data source"
   ],
   "metadata": {
    "collapsed": false
   },
   "id": "ab1b366608086123"
  },
  {
   "cell_type": "code",
   "source": [
    "df_machines = pd.read_csv('data/PdM_machines.csv')\n",
    "df_errors = pd.read_csv('data/PdM_errors.csv')\n",
    "df_failures = pd.read_csv('data/PdM_failures.csv')\n",
    "df_telemetry = pd.read_csv('data/PdM_telemetry.csv')"
   ],
   "metadata": {
    "collapsed": false,
    "ExecuteTime": {
     "end_time": "2024-04-15T11:58:45.724342Z",
     "start_time": "2024-04-15T11:58:45.199349Z"
    }
   },
   "id": "ef2a64abbdf68607",
   "outputs": [],
   "execution_count": 17
  },
  {
   "cell_type": "markdown",
   "source": [
    "## Explore dataset"
   ],
   "metadata": {
    "collapsed": false
   },
   "id": "a5ff743f9f6a1769"
  },
  {
   "cell_type": "code",
   "source": "df_machines.info()",
   "metadata": {
    "collapsed": false,
    "ExecuteTime": {
     "end_time": "2024-04-15T11:58:45.731154Z",
     "start_time": "2024-04-15T11:58:45.725421Z"
    }
   },
   "id": "84c8f22d2646c79c",
   "outputs": [
    {
     "name": "stdout",
     "output_type": "stream",
     "text": [
      "<class 'pandas.core.frame.DataFrame'>\n",
      "RangeIndex: 100 entries, 0 to 99\n",
      "Data columns (total 3 columns):\n",
      " #   Column     Non-Null Count  Dtype \n",
      "---  ------     --------------  ----- \n",
      " 0   machineID  100 non-null    int64 \n",
      " 1   model      100 non-null    object\n",
      " 2   age        100 non-null    int64 \n",
      "dtypes: int64(2), object(1)\n",
      "memory usage: 2.5+ KB\n"
     ]
    }
   ],
   "execution_count": 18
  },
  {
   "cell_type": "code",
   "source": [
    "df_errors.info()"
   ],
   "metadata": {
    "collapsed": false,
    "ExecuteTime": {
     "end_time": "2024-04-15T11:58:45.739460Z",
     "start_time": "2024-04-15T11:58:45.732168Z"
    }
   },
   "id": "d55f342c851000a9",
   "outputs": [
    {
     "name": "stdout",
     "output_type": "stream",
     "text": [
      "<class 'pandas.core.frame.DataFrame'>\n",
      "RangeIndex: 3919 entries, 0 to 3918\n",
      "Data columns (total 3 columns):\n",
      " #   Column     Non-Null Count  Dtype \n",
      "---  ------     --------------  ----- \n",
      " 0   datetime   3919 non-null   object\n",
      " 1   machineID  3919 non-null   int64 \n",
      " 2   errorID    3919 non-null   object\n",
      "dtypes: int64(1), object(2)\n",
      "memory usage: 92.0+ KB\n"
     ]
    }
   ],
   "execution_count": 19
  },
  {
   "cell_type": "code",
   "source": [
    "df_failures.info()"
   ],
   "metadata": {
    "collapsed": false,
    "ExecuteTime": {
     "end_time": "2024-04-15T11:58:45.746215Z",
     "start_time": "2024-04-15T11:58:45.739460Z"
    }
   },
   "id": "b0b9c3a9701e3f83",
   "outputs": [
    {
     "name": "stdout",
     "output_type": "stream",
     "text": [
      "<class 'pandas.core.frame.DataFrame'>\n",
      "RangeIndex: 761 entries, 0 to 760\n",
      "Data columns (total 3 columns):\n",
      " #   Column     Non-Null Count  Dtype \n",
      "---  ------     --------------  ----- \n",
      " 0   datetime   761 non-null    object\n",
      " 1   machineID  761 non-null    int64 \n",
      " 2   failure    761 non-null    object\n",
      "dtypes: int64(1), object(2)\n",
      "memory usage: 18.0+ KB\n"
     ]
    }
   ],
   "execution_count": 20
  },
  {
   "metadata": {
    "ExecuteTime": {
     "end_time": "2024-04-15T11:58:45.778755Z",
     "start_time": "2024-04-15T11:58:45.748144Z"
    }
   },
   "cell_type": "code",
   "source": "df_telemetry.info()",
   "id": "9a6e1b8250459312",
   "outputs": [
    {
     "name": "stdout",
     "output_type": "stream",
     "text": [
      "<class 'pandas.core.frame.DataFrame'>\n",
      "RangeIndex: 876100 entries, 0 to 876099\n",
      "Data columns (total 6 columns):\n",
      " #   Column     Non-Null Count   Dtype  \n",
      "---  ------     --------------   -----  \n",
      " 0   datetime   876100 non-null  object \n",
      " 1   machineID  876100 non-null  int64  \n",
      " 2   volt       876100 non-null  float64\n",
      " 3   rotate     876100 non-null  float64\n",
      " 4   pressure   876100 non-null  float64\n",
      " 5   vibration  876100 non-null  float64\n",
      "dtypes: float64(4), int64(1), object(1)\n",
      "memory usage: 40.1+ MB\n"
     ]
    }
   ],
   "execution_count": 21
  },
  {
   "cell_type": "markdown",
   "source": [
    "## Cleaning dataset"
   ],
   "metadata": {
    "collapsed": false
   },
   "id": "1ac338c9bf9a6175"
  },
  {
   "cell_type": "code",
   "source": [
    "df_machines.model = df_machines.model.astype('category')\n",
    "\n",
    "df_machines.info()"
   ],
   "metadata": {
    "collapsed": false,
    "ExecuteTime": {
     "end_time": "2024-04-15T11:58:45.789089Z",
     "start_time": "2024-04-15T11:58:45.779761Z"
    }
   },
   "id": "563f8005eee2a00f",
   "outputs": [
    {
     "name": "stdout",
     "output_type": "stream",
     "text": [
      "<class 'pandas.core.frame.DataFrame'>\n",
      "RangeIndex: 100 entries, 0 to 99\n",
      "Data columns (total 3 columns):\n",
      " #   Column     Non-Null Count  Dtype   \n",
      "---  ------     --------------  -----   \n",
      " 0   machineID  100 non-null    int64   \n",
      " 1   model      100 non-null    category\n",
      " 2   age        100 non-null    int64   \n",
      "dtypes: category(1), int64(2)\n",
      "memory usage: 2.0 KB\n"
     ]
    }
   ],
   "execution_count": 22
  },
  {
   "cell_type": "code",
   "source": [
    "df_errors.datetime = df_errors.datetime.astype(dtype='datetime64[s]')\n",
    "\n",
    "df_errors.info()"
   ],
   "metadata": {
    "collapsed": false,
    "ExecuteTime": {
     "end_time": "2024-04-15T11:58:45.798454Z",
     "start_time": "2024-04-15T11:58:45.790094Z"
    }
   },
   "id": "ae8f89c574417208",
   "outputs": [
    {
     "name": "stdout",
     "output_type": "stream",
     "text": [
      "<class 'pandas.core.frame.DataFrame'>\n",
      "RangeIndex: 3919 entries, 0 to 3918\n",
      "Data columns (total 3 columns):\n",
      " #   Column     Non-Null Count  Dtype        \n",
      "---  ------     --------------  -----        \n",
      " 0   datetime   3919 non-null   datetime64[s]\n",
      " 1   machineID  3919 non-null   int64        \n",
      " 2   errorID    3919 non-null   object       \n",
      "dtypes: datetime64[s](1), int64(1), object(1)\n",
      "memory usage: 92.0+ KB\n"
     ]
    }
   ],
   "execution_count": 23
  },
  {
   "cell_type": "code",
   "source": [
    "df_failures.datetime = df_failures.datetime.astype(dtype='datetime64[s]')\n",
    "\n",
    "df_failures.info()"
   ],
   "metadata": {
    "collapsed": false,
    "ExecuteTime": {
     "end_time": "2024-04-15T11:58:45.806419Z",
     "start_time": "2024-04-15T11:58:45.799726Z"
    }
   },
   "id": "972e42d625481dfd",
   "outputs": [
    {
     "name": "stdout",
     "output_type": "stream",
     "text": [
      "<class 'pandas.core.frame.DataFrame'>\n",
      "RangeIndex: 761 entries, 0 to 760\n",
      "Data columns (total 3 columns):\n",
      " #   Column     Non-Null Count  Dtype        \n",
      "---  ------     --------------  -----        \n",
      " 0   datetime   761 non-null    datetime64[s]\n",
      " 1   machineID  761 non-null    int64        \n",
      " 2   failure    761 non-null    object       \n",
      "dtypes: datetime64[s](1), int64(1), object(1)\n",
      "memory usage: 18.0+ KB\n"
     ]
    }
   ],
   "execution_count": 24
  },
  {
   "metadata": {
    "ExecuteTime": {
     "end_time": "2024-04-15T11:59:42.367630Z",
     "start_time": "2024-04-15T11:59:42.340554Z"
    }
   },
   "cell_type": "code",
   "source": [
    "df_telemetry.datetime = df_telemetry.datetime.astype(dtype='datetime64[s]')\n",
    "\n",
    "df_telemetry.info()\n",
    "df_telemetry"
   ],
   "id": "594d990deaca11ec",
   "outputs": [
    {
     "name": "stdout",
     "output_type": "stream",
     "text": [
      "<class 'pandas.core.frame.DataFrame'>\n",
      "RangeIndex: 876100 entries, 0 to 876099\n",
      "Data columns (total 6 columns):\n",
      " #   Column     Non-Null Count   Dtype        \n",
      "---  ------     --------------   -----        \n",
      " 0   datetime   876100 non-null  datetime64[s]\n",
      " 1   machineID  876100 non-null  int64        \n",
      " 2   volt       876100 non-null  float64      \n",
      " 3   rotate     876100 non-null  float64      \n",
      " 4   pressure   876100 non-null  float64      \n",
      " 5   vibration  876100 non-null  float64      \n",
      "dtypes: datetime64[s](1), float64(4), int64(1)\n",
      "memory usage: 40.1 MB\n"
     ]
    },
    {
     "data": {
      "text/plain": [
       "                  datetime  machineID        volt      rotate    pressure  \\\n",
       "0      2015-01-01 06:00:00          1  176.217853  418.504078  113.077935   \n",
       "1      2015-01-01 07:00:00          1  162.879223  402.747490   95.460525   \n",
       "2      2015-01-01 08:00:00          1  170.989902  527.349825   75.237905   \n",
       "3      2015-01-01 09:00:00          1  162.462833  346.149335  109.248561   \n",
       "4      2015-01-01 10:00:00          1  157.610021  435.376873  111.886648   \n",
       "...                    ...        ...         ...         ...         ...   \n",
       "876095 2016-01-01 02:00:00        100  179.438162  395.222827  102.290715   \n",
       "876096 2016-01-01 03:00:00        100  189.617555  446.207972   98.180607   \n",
       "876097 2016-01-01 04:00:00        100  192.483414  447.816524   94.132837   \n",
       "876098 2016-01-01 05:00:00        100  165.475310  413.771670  104.081073   \n",
       "876099 2016-01-01 06:00:00        100  171.336037  496.096870   79.095538   \n",
       "\n",
       "        vibration  \n",
       "0       45.087686  \n",
       "1       43.413973  \n",
       "2       34.178847  \n",
       "3       41.122144  \n",
       "4       25.990511  \n",
       "...           ...  \n",
       "876095  50.771941  \n",
       "876096  35.123072  \n",
       "876097  48.314561  \n",
       "876098  44.835259  \n",
       "876099  37.845245  \n",
       "\n",
       "[876100 rows x 6 columns]"
      ],
      "text/html": [
       "<div>\n",
       "<style scoped>\n",
       "    .dataframe tbody tr th:only-of-type {\n",
       "        vertical-align: middle;\n",
       "    }\n",
       "\n",
       "    .dataframe tbody tr th {\n",
       "        vertical-align: top;\n",
       "    }\n",
       "\n",
       "    .dataframe thead th {\n",
       "        text-align: right;\n",
       "    }\n",
       "</style>\n",
       "<table border=\"1\" class=\"dataframe\">\n",
       "  <thead>\n",
       "    <tr style=\"text-align: right;\">\n",
       "      <th></th>\n",
       "      <th>datetime</th>\n",
       "      <th>machineID</th>\n",
       "      <th>volt</th>\n",
       "      <th>rotate</th>\n",
       "      <th>pressure</th>\n",
       "      <th>vibration</th>\n",
       "    </tr>\n",
       "  </thead>\n",
       "  <tbody>\n",
       "    <tr>\n",
       "      <th>0</th>\n",
       "      <td>2015-01-01 06:00:00</td>\n",
       "      <td>1</td>\n",
       "      <td>176.217853</td>\n",
       "      <td>418.504078</td>\n",
       "      <td>113.077935</td>\n",
       "      <td>45.087686</td>\n",
       "    </tr>\n",
       "    <tr>\n",
       "      <th>1</th>\n",
       "      <td>2015-01-01 07:00:00</td>\n",
       "      <td>1</td>\n",
       "      <td>162.879223</td>\n",
       "      <td>402.747490</td>\n",
       "      <td>95.460525</td>\n",
       "      <td>43.413973</td>\n",
       "    </tr>\n",
       "    <tr>\n",
       "      <th>2</th>\n",
       "      <td>2015-01-01 08:00:00</td>\n",
       "      <td>1</td>\n",
       "      <td>170.989902</td>\n",
       "      <td>527.349825</td>\n",
       "      <td>75.237905</td>\n",
       "      <td>34.178847</td>\n",
       "    </tr>\n",
       "    <tr>\n",
       "      <th>3</th>\n",
       "      <td>2015-01-01 09:00:00</td>\n",
       "      <td>1</td>\n",
       "      <td>162.462833</td>\n",
       "      <td>346.149335</td>\n",
       "      <td>109.248561</td>\n",
       "      <td>41.122144</td>\n",
       "    </tr>\n",
       "    <tr>\n",
       "      <th>4</th>\n",
       "      <td>2015-01-01 10:00:00</td>\n",
       "      <td>1</td>\n",
       "      <td>157.610021</td>\n",
       "      <td>435.376873</td>\n",
       "      <td>111.886648</td>\n",
       "      <td>25.990511</td>\n",
       "    </tr>\n",
       "    <tr>\n",
       "      <th>...</th>\n",
       "      <td>...</td>\n",
       "      <td>...</td>\n",
       "      <td>...</td>\n",
       "      <td>...</td>\n",
       "      <td>...</td>\n",
       "      <td>...</td>\n",
       "    </tr>\n",
       "    <tr>\n",
       "      <th>876095</th>\n",
       "      <td>2016-01-01 02:00:00</td>\n",
       "      <td>100</td>\n",
       "      <td>179.438162</td>\n",
       "      <td>395.222827</td>\n",
       "      <td>102.290715</td>\n",
       "      <td>50.771941</td>\n",
       "    </tr>\n",
       "    <tr>\n",
       "      <th>876096</th>\n",
       "      <td>2016-01-01 03:00:00</td>\n",
       "      <td>100</td>\n",
       "      <td>189.617555</td>\n",
       "      <td>446.207972</td>\n",
       "      <td>98.180607</td>\n",
       "      <td>35.123072</td>\n",
       "    </tr>\n",
       "    <tr>\n",
       "      <th>876097</th>\n",
       "      <td>2016-01-01 04:00:00</td>\n",
       "      <td>100</td>\n",
       "      <td>192.483414</td>\n",
       "      <td>447.816524</td>\n",
       "      <td>94.132837</td>\n",
       "      <td>48.314561</td>\n",
       "    </tr>\n",
       "    <tr>\n",
       "      <th>876098</th>\n",
       "      <td>2016-01-01 05:00:00</td>\n",
       "      <td>100</td>\n",
       "      <td>165.475310</td>\n",
       "      <td>413.771670</td>\n",
       "      <td>104.081073</td>\n",
       "      <td>44.835259</td>\n",
       "    </tr>\n",
       "    <tr>\n",
       "      <th>876099</th>\n",
       "      <td>2016-01-01 06:00:00</td>\n",
       "      <td>100</td>\n",
       "      <td>171.336037</td>\n",
       "      <td>496.096870</td>\n",
       "      <td>79.095538</td>\n",
       "      <td>37.845245</td>\n",
       "    </tr>\n",
       "  </tbody>\n",
       "</table>\n",
       "<p>876100 rows × 6 columns</p>\n",
       "</div>"
      ]
     },
     "execution_count": 26,
     "metadata": {},
     "output_type": "execute_result"
    }
   ],
   "execution_count": 26
  },
  {
   "cell_type": "markdown",
   "source": [
    "## Data exploration"
   ],
   "metadata": {
    "collapsed": false
   },
   "id": "df32894daa45fd1e"
  },
  {
   "metadata": {
    "ExecuteTime": {
     "end_time": "2024-04-15T12:10:29.696690Z",
     "start_time": "2024-04-15T12:10:24.659602Z"
    }
   },
   "cell_type": "code",
   "source": [
    "df_volt = df_telemetry[['datetime', 'volt']]\n",
    "\n",
    "plt.figure()\n",
    "plt.plot(df_volt.datetime, df_volt.volt)\n",
    "\n",
    "plt.xlabel(\"T\")\n",
    "plt.ylabel(\"V\")\n",
    "plt.title(\"Volt measurement in 2015 per Hour\")\n",
    "\n",
    "plt.show()"
   ],
   "id": "aa4025db9ec60f28",
   "outputs": [
    {
     "data": {
      "text/plain": [
       "<Figure size 640x480 with 1 Axes>"
      ],
      "image/png": "[encoded data removed]"
     },
     "metadata": {},
     "output_type": "display_data"
    }
   ],
   "execution_count": 30
  },
  {
   "cell_type": "code",
   "source": [
    "# Iterate over unique models\n",
    "for model in df_machines['model'].unique():\n",
    "    # Filter data for the current model\n",
    "    model_data = df_machines[df_machines['model'] == model]\n",
    "    # Plot boxplot for the current model\n",
    "    plt.boxplot(model_data['age'], positions=[list(df_machines['model'].unique()).index(model)], labels=[model])\n",
    "\n",
    "plt.xlabel('Model')\n",
    "plt.ylabel('Age')\n",
    "plt.title('Boxplot of Age for Different Models')\n",
    "plt.grid(True)\n",
    "plt.show()"
   ],
   "metadata": {
    "collapsed": false
   },
   "id": "fc0d82b1b453c138",
   "outputs": [],
   "execution_count": null
  },
  {
   "cell_type": "code",
   "source": [
    "# Extract quarter from datetime\n",
    "df_errors['quarter'] = df_errors['datetime'].dt.to_period('W')\n",
    "\n",
    "# Group by quarter and count errors\n",
    "error_counts = df_errors.groupby('quarter')['errorID'].count()\n",
    "\n",
    "# Extract quarter from datetime\n",
    "df_failures['quarter'] = df_failures['datetime'].dt.to_period('W')\n",
    "\n",
    "# Group by quarter and count errors\n",
    "failure_counts = df_failures.groupby('quarter')['failure'].count()\n",
    "\n",
    "# Plotting\n",
    "plt.figure(figsize=(10, 6))\n",
    "error_counts.plot(kind='line', color='yellow')\n",
    "failure_counts.plot(kind='line', color='red')\n",
    "plt.xlabel('Quarter')\n",
    "plt.ylabel('Total Error Count')\n",
    "plt.title('Total Error Count per Quarter')\n",
    "plt.xticks(rotation=45)\n",
    "plt.grid(axis='y', linestyle='--', alpha=0.7)\n",
    "plt.tight_layout()\n",
    "plt.show()"
   ],
   "metadata": {
    "collapsed": false
   },
   "id": "9193f798ab1a1a0f",
   "outputs": [],
   "execution_count": null
  },
  {
   "cell_type": "code",
   "source": [
    "# Extract quarter from datetime\n",
    "df_failures['quarter'] = df_failures['datetime'].dt.to_period('Q')\n",
    "\n",
    "# Group by quarter and count errors\n",
    "failure_counts = df_failures.groupby('quarter')['failure'].count()\n",
    "\n",
    "# Plotting\n",
    "plt.figure(figsize=(10, 6))\n",
    "failure_counts.plot(kind='bar', color='red')\n",
    "plt.xlabel('Quarter')\n",
    "plt.ylabel('Total Error Count')\n",
    "plt.title('Total Error Count per Quarter')\n",
    "plt.xticks(rotation=45)\n",
    "plt.grid(axis='y', linestyle='--', alpha=0.7)\n",
    "plt.tight_layout()\n",
    "plt.show()"
   ],
   "metadata": {
    "collapsed": false
   },
   "id": "2d254a5f0f492c45",
   "outputs": [],
   "execution_count": null
  }
 ],
 "metadata": {
  "kernelspec": {
   "display_name": "Python 3",
   "language": "python",
   "name": "python3"
  },
  "language_info": {
   "codemirror_mode": {
    "name": "ipython",
    "version": 2
   },
   "file_extension": ".py",
   "mimetype": "text/x-python",
   "name": "python",
   "nbconvert_exporter": "python",
   "pygments_lexer": "ipython2",
   "version": "2.7.6"
  }
 },
 "nbformat": 4,
 "nbformat_minor": 5
}
